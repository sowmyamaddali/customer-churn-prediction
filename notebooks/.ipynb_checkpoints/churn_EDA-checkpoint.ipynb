{
 "cells": [
  {
   "cell_type": "code",
   "execution_count": 1,
   "id": "4143e53d-b5f5-4abc-9882-64576f65f172",
   "metadata": {
    "tags": []
   },
   "outputs": [],
   "source": [
    "import pandas as pd\n",
    "import janitor\n",
    "import numpy as np\n",
    "import matplotlib.pyplot as plt\n",
    "import seaborn as sns"
   ]
  },
  {
   "cell_type": "markdown",
   "id": "7a6b277d-eefc-423c-bc3a-0445b42dfa4f",
   "metadata": {
    "tags": []
   },
   "source": [
    "## Understanding the data"
   ]
  },
  {
   "cell_type": "code",
   "execution_count": 2,
   "id": "c764a577-c783-46e7-a32a-b542a07412b0",
   "metadata": {
    "tags": []
   },
   "outputs": [
    {
     "data": {
      "text/plain": [
       "(7043, 50)"
      ]
     },
     "execution_count": 2,
     "metadata": {},
     "output_type": "execute_result"
    }
   ],
   "source": [
    "churn_df = pd.read_csv(\"../data/telco.csv\")\n",
    "churn_df.shape"
   ]
  },
  {
   "cell_type": "code",
   "execution_count": 3,
   "id": "c52589ac-5323-40e3-972a-da21303851f2",
   "metadata": {
    "tags": []
   },
   "outputs": [
    {
     "data": {
      "text/html": [
       "<div>\n",
       "<style scoped>\n",
       "    .dataframe tbody tr th:only-of-type {\n",
       "        vertical-align: middle;\n",
       "    }\n",
       "\n",
       "    .dataframe tbody tr th {\n",
       "        vertical-align: top;\n",
       "    }\n",
       "\n",
       "    .dataframe thead th {\n",
       "        text-align: right;\n",
       "    }\n",
       "</style>\n",
       "<table border=\"1\" class=\"dataframe\">\n",
       "  <thead>\n",
       "    <tr style=\"text-align: right;\">\n",
       "      <th></th>\n",
       "      <th>Customer ID</th>\n",
       "      <th>Gender</th>\n",
       "      <th>Age</th>\n",
       "      <th>Under 30</th>\n",
       "      <th>Senior Citizen</th>\n",
       "      <th>Married</th>\n",
       "      <th>Dependents</th>\n",
       "      <th>Number of Dependents</th>\n",
       "      <th>Country</th>\n",
       "      <th>State</th>\n",
       "      <th>...</th>\n",
       "      <th>Total Extra Data Charges</th>\n",
       "      <th>Total Long Distance Charges</th>\n",
       "      <th>Total Revenue</th>\n",
       "      <th>Satisfaction Score</th>\n",
       "      <th>Customer Status</th>\n",
       "      <th>Churn Label</th>\n",
       "      <th>Churn Score</th>\n",
       "      <th>CLTV</th>\n",
       "      <th>Churn Category</th>\n",
       "      <th>Churn Reason</th>\n",
       "    </tr>\n",
       "  </thead>\n",
       "  <tbody>\n",
       "    <tr>\n",
       "      <th>0</th>\n",
       "      <td>8779-QRDMV</td>\n",
       "      <td>Male</td>\n",
       "      <td>78</td>\n",
       "      <td>No</td>\n",
       "      <td>Yes</td>\n",
       "      <td>No</td>\n",
       "      <td>No</td>\n",
       "      <td>0</td>\n",
       "      <td>United States</td>\n",
       "      <td>California</td>\n",
       "      <td>...</td>\n",
       "      <td>20</td>\n",
       "      <td>0.00</td>\n",
       "      <td>59.65</td>\n",
       "      <td>3</td>\n",
       "      <td>Churned</td>\n",
       "      <td>Yes</td>\n",
       "      <td>91</td>\n",
       "      <td>5433</td>\n",
       "      <td>Competitor</td>\n",
       "      <td>Competitor offered more data</td>\n",
       "    </tr>\n",
       "    <tr>\n",
       "      <th>1</th>\n",
       "      <td>7495-OOKFY</td>\n",
       "      <td>Female</td>\n",
       "      <td>74</td>\n",
       "      <td>No</td>\n",
       "      <td>Yes</td>\n",
       "      <td>Yes</td>\n",
       "      <td>Yes</td>\n",
       "      <td>1</td>\n",
       "      <td>United States</td>\n",
       "      <td>California</td>\n",
       "      <td>...</td>\n",
       "      <td>0</td>\n",
       "      <td>390.80</td>\n",
       "      <td>1024.10</td>\n",
       "      <td>3</td>\n",
       "      <td>Churned</td>\n",
       "      <td>Yes</td>\n",
       "      <td>69</td>\n",
       "      <td>5302</td>\n",
       "      <td>Competitor</td>\n",
       "      <td>Competitor made better offer</td>\n",
       "    </tr>\n",
       "    <tr>\n",
       "      <th>2</th>\n",
       "      <td>1658-BYGOY</td>\n",
       "      <td>Male</td>\n",
       "      <td>71</td>\n",
       "      <td>No</td>\n",
       "      <td>Yes</td>\n",
       "      <td>No</td>\n",
       "      <td>Yes</td>\n",
       "      <td>3</td>\n",
       "      <td>United States</td>\n",
       "      <td>California</td>\n",
       "      <td>...</td>\n",
       "      <td>0</td>\n",
       "      <td>203.94</td>\n",
       "      <td>1910.88</td>\n",
       "      <td>2</td>\n",
       "      <td>Churned</td>\n",
       "      <td>Yes</td>\n",
       "      <td>81</td>\n",
       "      <td>3179</td>\n",
       "      <td>Competitor</td>\n",
       "      <td>Competitor made better offer</td>\n",
       "    </tr>\n",
       "    <tr>\n",
       "      <th>3</th>\n",
       "      <td>4598-XLKNJ</td>\n",
       "      <td>Female</td>\n",
       "      <td>78</td>\n",
       "      <td>No</td>\n",
       "      <td>Yes</td>\n",
       "      <td>Yes</td>\n",
       "      <td>Yes</td>\n",
       "      <td>1</td>\n",
       "      <td>United States</td>\n",
       "      <td>California</td>\n",
       "      <td>...</td>\n",
       "      <td>0</td>\n",
       "      <td>494.00</td>\n",
       "      <td>2995.07</td>\n",
       "      <td>2</td>\n",
       "      <td>Churned</td>\n",
       "      <td>Yes</td>\n",
       "      <td>88</td>\n",
       "      <td>5337</td>\n",
       "      <td>Dissatisfaction</td>\n",
       "      <td>Limited range of services</td>\n",
       "    </tr>\n",
       "    <tr>\n",
       "      <th>4</th>\n",
       "      <td>4846-WHAFZ</td>\n",
       "      <td>Female</td>\n",
       "      <td>80</td>\n",
       "      <td>No</td>\n",
       "      <td>Yes</td>\n",
       "      <td>Yes</td>\n",
       "      <td>Yes</td>\n",
       "      <td>1</td>\n",
       "      <td>United States</td>\n",
       "      <td>California</td>\n",
       "      <td>...</td>\n",
       "      <td>0</td>\n",
       "      <td>234.21</td>\n",
       "      <td>3102.36</td>\n",
       "      <td>2</td>\n",
       "      <td>Churned</td>\n",
       "      <td>Yes</td>\n",
       "      <td>67</td>\n",
       "      <td>2793</td>\n",
       "      <td>Price</td>\n",
       "      <td>Extra data charges</td>\n",
       "    </tr>\n",
       "  </tbody>\n",
       "</table>\n",
       "<p>5 rows × 50 columns</p>\n",
       "</div>"
      ],
      "text/plain": [
       "  Customer ID  Gender  Age Under 30 Senior Citizen Married Dependents  \\\n",
       "0  8779-QRDMV    Male   78       No            Yes      No         No   \n",
       "1  7495-OOKFY  Female   74       No            Yes     Yes        Yes   \n",
       "2  1658-BYGOY    Male   71       No            Yes      No        Yes   \n",
       "3  4598-XLKNJ  Female   78       No            Yes     Yes        Yes   \n",
       "4  4846-WHAFZ  Female   80       No            Yes     Yes        Yes   \n",
       "\n",
       "   Number of Dependents        Country       State  ...  \\\n",
       "0                     0  United States  California  ...   \n",
       "1                     1  United States  California  ...   \n",
       "2                     3  United States  California  ...   \n",
       "3                     1  United States  California  ...   \n",
       "4                     1  United States  California  ...   \n",
       "\n",
       "  Total Extra Data Charges  Total Long Distance Charges  Total Revenue  \\\n",
       "0                       20                         0.00          59.65   \n",
       "1                        0                       390.80        1024.10   \n",
       "2                        0                       203.94        1910.88   \n",
       "3                        0                       494.00        2995.07   \n",
       "4                        0                       234.21        3102.36   \n",
       "\n",
       "   Satisfaction Score  Customer Status Churn Label Churn Score  CLTV  \\\n",
       "0                   3          Churned         Yes          91  5433   \n",
       "1                   3          Churned         Yes          69  5302   \n",
       "2                   2          Churned         Yes          81  3179   \n",
       "3                   2          Churned         Yes          88  5337   \n",
       "4                   2          Churned         Yes          67  2793   \n",
       "\n",
       "    Churn Category                  Churn Reason  \n",
       "0       Competitor  Competitor offered more data  \n",
       "1       Competitor  Competitor made better offer  \n",
       "2       Competitor  Competitor made better offer  \n",
       "3  Dissatisfaction     Limited range of services  \n",
       "4            Price            Extra data charges  \n",
       "\n",
       "[5 rows x 50 columns]"
      ]
     },
     "execution_count": 3,
     "metadata": {},
     "output_type": "execute_result"
    }
   ],
   "source": [
    "churn_df.head()"
   ]
  },
  {
   "cell_type": "markdown",
   "id": "f0ebe51e-2205-4808-bb89-ec5e77a24bdf",
   "metadata": {},
   "source": [
    "Notes:\n",
    "1. Based on the age, the `Senior Citizen` column can be made so `Under 30` column can be removed.\n",
    "2. Based on `Number of Dependents` it can be determined if there are dependents so the `Dependents` column can be removed.\n",
    "3. `Country` column can be completely removed because this data is only for the United States.\n",
    "4. Similarly `State` can be removed because this data is strictly for California\n",
    "5. `Churn Label` is the target label"
   ]
  },
  {
   "cell_type": "code",
   "execution_count": 4,
   "id": "0df70a0f-694a-4c7e-b294-e45158ba3720",
   "metadata": {},
   "outputs": [
    {
     "data": {
      "text/html": [
       "<div>\n",
       "<style scoped>\n",
       "    .dataframe tbody tr th:only-of-type {\n",
       "        vertical-align: middle;\n",
       "    }\n",
       "\n",
       "    .dataframe tbody tr th {\n",
       "        vertical-align: top;\n",
       "    }\n",
       "\n",
       "    .dataframe thead th {\n",
       "        text-align: right;\n",
       "    }\n",
       "</style>\n",
       "<table border=\"1\" class=\"dataframe\">\n",
       "  <thead>\n",
       "    <tr style=\"text-align: right;\">\n",
       "      <th></th>\n",
       "      <th>customer_id</th>\n",
       "      <th>gender</th>\n",
       "      <th>age</th>\n",
       "      <th>under_30</th>\n",
       "      <th>senior_citizen</th>\n",
       "      <th>married</th>\n",
       "      <th>dependents</th>\n",
       "      <th>number_of_dependents</th>\n",
       "      <th>country</th>\n",
       "      <th>state</th>\n",
       "      <th>...</th>\n",
       "      <th>total_extra_data_charges</th>\n",
       "      <th>total_long_distance_charges</th>\n",
       "      <th>total_revenue</th>\n",
       "      <th>satisfaction_score</th>\n",
       "      <th>customer_status</th>\n",
       "      <th>churn_label</th>\n",
       "      <th>churn_score</th>\n",
       "      <th>cltv</th>\n",
       "      <th>churn_category</th>\n",
       "      <th>churn_reason</th>\n",
       "    </tr>\n",
       "  </thead>\n",
       "  <tbody>\n",
       "    <tr>\n",
       "      <th>0</th>\n",
       "      <td>8779-QRDMV</td>\n",
       "      <td>Male</td>\n",
       "      <td>78</td>\n",
       "      <td>No</td>\n",
       "      <td>Yes</td>\n",
       "      <td>No</td>\n",
       "      <td>No</td>\n",
       "      <td>0</td>\n",
       "      <td>United States</td>\n",
       "      <td>California</td>\n",
       "      <td>...</td>\n",
       "      <td>20</td>\n",
       "      <td>0.00</td>\n",
       "      <td>59.65</td>\n",
       "      <td>3</td>\n",
       "      <td>Churned</td>\n",
       "      <td>Yes</td>\n",
       "      <td>91</td>\n",
       "      <td>5433</td>\n",
       "      <td>Competitor</td>\n",
       "      <td>Competitor offered more data</td>\n",
       "    </tr>\n",
       "    <tr>\n",
       "      <th>1</th>\n",
       "      <td>7495-OOKFY</td>\n",
       "      <td>Female</td>\n",
       "      <td>74</td>\n",
       "      <td>No</td>\n",
       "      <td>Yes</td>\n",
       "      <td>Yes</td>\n",
       "      <td>Yes</td>\n",
       "      <td>1</td>\n",
       "      <td>United States</td>\n",
       "      <td>California</td>\n",
       "      <td>...</td>\n",
       "      <td>0</td>\n",
       "      <td>390.80</td>\n",
       "      <td>1024.10</td>\n",
       "      <td>3</td>\n",
       "      <td>Churned</td>\n",
       "      <td>Yes</td>\n",
       "      <td>69</td>\n",
       "      <td>5302</td>\n",
       "      <td>Competitor</td>\n",
       "      <td>Competitor made better offer</td>\n",
       "    </tr>\n",
       "    <tr>\n",
       "      <th>2</th>\n",
       "      <td>1658-BYGOY</td>\n",
       "      <td>Male</td>\n",
       "      <td>71</td>\n",
       "      <td>No</td>\n",
       "      <td>Yes</td>\n",
       "      <td>No</td>\n",
       "      <td>Yes</td>\n",
       "      <td>3</td>\n",
       "      <td>United States</td>\n",
       "      <td>California</td>\n",
       "      <td>...</td>\n",
       "      <td>0</td>\n",
       "      <td>203.94</td>\n",
       "      <td>1910.88</td>\n",
       "      <td>2</td>\n",
       "      <td>Churned</td>\n",
       "      <td>Yes</td>\n",
       "      <td>81</td>\n",
       "      <td>3179</td>\n",
       "      <td>Competitor</td>\n",
       "      <td>Competitor made better offer</td>\n",
       "    </tr>\n",
       "    <tr>\n",
       "      <th>3</th>\n",
       "      <td>4598-XLKNJ</td>\n",
       "      <td>Female</td>\n",
       "      <td>78</td>\n",
       "      <td>No</td>\n",
       "      <td>Yes</td>\n",
       "      <td>Yes</td>\n",
       "      <td>Yes</td>\n",
       "      <td>1</td>\n",
       "      <td>United States</td>\n",
       "      <td>California</td>\n",
       "      <td>...</td>\n",
       "      <td>0</td>\n",
       "      <td>494.00</td>\n",
       "      <td>2995.07</td>\n",
       "      <td>2</td>\n",
       "      <td>Churned</td>\n",
       "      <td>Yes</td>\n",
       "      <td>88</td>\n",
       "      <td>5337</td>\n",
       "      <td>Dissatisfaction</td>\n",
       "      <td>Limited range of services</td>\n",
       "    </tr>\n",
       "    <tr>\n",
       "      <th>4</th>\n",
       "      <td>4846-WHAFZ</td>\n",
       "      <td>Female</td>\n",
       "      <td>80</td>\n",
       "      <td>No</td>\n",
       "      <td>Yes</td>\n",
       "      <td>Yes</td>\n",
       "      <td>Yes</td>\n",
       "      <td>1</td>\n",
       "      <td>United States</td>\n",
       "      <td>California</td>\n",
       "      <td>...</td>\n",
       "      <td>0</td>\n",
       "      <td>234.21</td>\n",
       "      <td>3102.36</td>\n",
       "      <td>2</td>\n",
       "      <td>Churned</td>\n",
       "      <td>Yes</td>\n",
       "      <td>67</td>\n",
       "      <td>2793</td>\n",
       "      <td>Price</td>\n",
       "      <td>Extra data charges</td>\n",
       "    </tr>\n",
       "    <tr>\n",
       "      <th>...</th>\n",
       "      <td>...</td>\n",
       "      <td>...</td>\n",
       "      <td>...</td>\n",
       "      <td>...</td>\n",
       "      <td>...</td>\n",
       "      <td>...</td>\n",
       "      <td>...</td>\n",
       "      <td>...</td>\n",
       "      <td>...</td>\n",
       "      <td>...</td>\n",
       "      <td>...</td>\n",
       "      <td>...</td>\n",
       "      <td>...</td>\n",
       "      <td>...</td>\n",
       "      <td>...</td>\n",
       "      <td>...</td>\n",
       "      <td>...</td>\n",
       "      <td>...</td>\n",
       "      <td>...</td>\n",
       "      <td>...</td>\n",
       "      <td>...</td>\n",
       "    </tr>\n",
       "    <tr>\n",
       "      <th>7038</th>\n",
       "      <td>2569-WGERO</td>\n",
       "      <td>Female</td>\n",
       "      <td>30</td>\n",
       "      <td>No</td>\n",
       "      <td>No</td>\n",
       "      <td>No</td>\n",
       "      <td>No</td>\n",
       "      <td>0</td>\n",
       "      <td>United States</td>\n",
       "      <td>California</td>\n",
       "      <td>...</td>\n",
       "      <td>0</td>\n",
       "      <td>1639.44</td>\n",
       "      <td>3039.53</td>\n",
       "      <td>5</td>\n",
       "      <td>Stayed</td>\n",
       "      <td>No</td>\n",
       "      <td>45</td>\n",
       "      <td>5306</td>\n",
       "      <td>NaN</td>\n",
       "      <td>NaN</td>\n",
       "    </tr>\n",
       "    <tr>\n",
       "      <th>7039</th>\n",
       "      <td>6840-RESVB</td>\n",
       "      <td>Male</td>\n",
       "      <td>38</td>\n",
       "      <td>No</td>\n",
       "      <td>No</td>\n",
       "      <td>Yes</td>\n",
       "      <td>Yes</td>\n",
       "      <td>2</td>\n",
       "      <td>United States</td>\n",
       "      <td>California</td>\n",
       "      <td>...</td>\n",
       "      <td>0</td>\n",
       "      <td>865.20</td>\n",
       "      <td>2807.47</td>\n",
       "      <td>3</td>\n",
       "      <td>Stayed</td>\n",
       "      <td>No</td>\n",
       "      <td>59</td>\n",
       "      <td>2140</td>\n",
       "      <td>NaN</td>\n",
       "      <td>NaN</td>\n",
       "    </tr>\n",
       "    <tr>\n",
       "      <th>7040</th>\n",
       "      <td>2234-XADUH</td>\n",
       "      <td>Female</td>\n",
       "      <td>30</td>\n",
       "      <td>No</td>\n",
       "      <td>No</td>\n",
       "      <td>Yes</td>\n",
       "      <td>Yes</td>\n",
       "      <td>2</td>\n",
       "      <td>United States</td>\n",
       "      <td>California</td>\n",
       "      <td>...</td>\n",
       "      <td>0</td>\n",
       "      <td>2135.52</td>\n",
       "      <td>9453.04</td>\n",
       "      <td>4</td>\n",
       "      <td>Stayed</td>\n",
       "      <td>No</td>\n",
       "      <td>71</td>\n",
       "      <td>5560</td>\n",
       "      <td>NaN</td>\n",
       "      <td>NaN</td>\n",
       "    </tr>\n",
       "    <tr>\n",
       "      <th>7041</th>\n",
       "      <td>4801-JZAZL</td>\n",
       "      <td>Female</td>\n",
       "      <td>32</td>\n",
       "      <td>No</td>\n",
       "      <td>No</td>\n",
       "      <td>Yes</td>\n",
       "      <td>Yes</td>\n",
       "      <td>2</td>\n",
       "      <td>United States</td>\n",
       "      <td>California</td>\n",
       "      <td>...</td>\n",
       "      <td>0</td>\n",
       "      <td>0.00</td>\n",
       "      <td>319.21</td>\n",
       "      <td>4</td>\n",
       "      <td>Stayed</td>\n",
       "      <td>No</td>\n",
       "      <td>59</td>\n",
       "      <td>2793</td>\n",
       "      <td>NaN</td>\n",
       "      <td>NaN</td>\n",
       "    </tr>\n",
       "    <tr>\n",
       "      <th>7042</th>\n",
       "      <td>3186-AJIEK</td>\n",
       "      <td>Male</td>\n",
       "      <td>44</td>\n",
       "      <td>No</td>\n",
       "      <td>No</td>\n",
       "      <td>No</td>\n",
       "      <td>No</td>\n",
       "      <td>0</td>\n",
       "      <td>United States</td>\n",
       "      <td>California</td>\n",
       "      <td>...</td>\n",
       "      <td>0</td>\n",
       "      <td>2043.36</td>\n",
       "      <td>8887.86</td>\n",
       "      <td>4</td>\n",
       "      <td>Stayed</td>\n",
       "      <td>No</td>\n",
       "      <td>38</td>\n",
       "      <td>5097</td>\n",
       "      <td>NaN</td>\n",
       "      <td>NaN</td>\n",
       "    </tr>\n",
       "  </tbody>\n",
       "</table>\n",
       "<p>7043 rows × 50 columns</p>\n",
       "</div>"
      ],
      "text/plain": [
       "     customer_id  gender  age under_30 senior_citizen married dependents  \\\n",
       "0     8779-QRDMV    Male   78       No            Yes      No         No   \n",
       "1     7495-OOKFY  Female   74       No            Yes     Yes        Yes   \n",
       "2     1658-BYGOY    Male   71       No            Yes      No        Yes   \n",
       "3     4598-XLKNJ  Female   78       No            Yes     Yes        Yes   \n",
       "4     4846-WHAFZ  Female   80       No            Yes     Yes        Yes   \n",
       "...          ...     ...  ...      ...            ...     ...        ...   \n",
       "7038  2569-WGERO  Female   30       No             No      No         No   \n",
       "7039  6840-RESVB    Male   38       No             No     Yes        Yes   \n",
       "7040  2234-XADUH  Female   30       No             No     Yes        Yes   \n",
       "7041  4801-JZAZL  Female   32       No             No     Yes        Yes   \n",
       "7042  3186-AJIEK    Male   44       No             No      No         No   \n",
       "\n",
       "      number_of_dependents        country       state  ...  \\\n",
       "0                        0  United States  California  ...   \n",
       "1                        1  United States  California  ...   \n",
       "2                        3  United States  California  ...   \n",
       "3                        1  United States  California  ...   \n",
       "4                        1  United States  California  ...   \n",
       "...                    ...            ...         ...  ...   \n",
       "7038                     0  United States  California  ...   \n",
       "7039                     2  United States  California  ...   \n",
       "7040                     2  United States  California  ...   \n",
       "7041                     2  United States  California  ...   \n",
       "7042                     0  United States  California  ...   \n",
       "\n",
       "     total_extra_data_charges  total_long_distance_charges  total_revenue  \\\n",
       "0                          20                         0.00          59.65   \n",
       "1                           0                       390.80        1024.10   \n",
       "2                           0                       203.94        1910.88   \n",
       "3                           0                       494.00        2995.07   \n",
       "4                           0                       234.21        3102.36   \n",
       "...                       ...                          ...            ...   \n",
       "7038                        0                      1639.44        3039.53   \n",
       "7039                        0                       865.20        2807.47   \n",
       "7040                        0                      2135.52        9453.04   \n",
       "7041                        0                         0.00         319.21   \n",
       "7042                        0                      2043.36        8887.86   \n",
       "\n",
       "      satisfaction_score  customer_status churn_label churn_score  cltv  \\\n",
       "0                      3          Churned         Yes          91  5433   \n",
       "1                      3          Churned         Yes          69  5302   \n",
       "2                      2          Churned         Yes          81  3179   \n",
       "3                      2          Churned         Yes          88  5337   \n",
       "4                      2          Churned         Yes          67  2793   \n",
       "...                  ...              ...         ...         ...   ...   \n",
       "7038                   5           Stayed          No          45  5306   \n",
       "7039                   3           Stayed          No          59  2140   \n",
       "7040                   4           Stayed          No          71  5560   \n",
       "7041                   4           Stayed          No          59  2793   \n",
       "7042                   4           Stayed          No          38  5097   \n",
       "\n",
       "       churn_category                  churn_reason  \n",
       "0          Competitor  Competitor offered more data  \n",
       "1          Competitor  Competitor made better offer  \n",
       "2          Competitor  Competitor made better offer  \n",
       "3     Dissatisfaction     Limited range of services  \n",
       "4               Price            Extra data charges  \n",
       "...               ...                           ...  \n",
       "7038              NaN                           NaN  \n",
       "7039              NaN                           NaN  \n",
       "7040              NaN                           NaN  \n",
       "7041              NaN                           NaN  \n",
       "7042              NaN                           NaN  \n",
       "\n",
       "[7043 rows x 50 columns]"
      ]
     },
     "execution_count": 4,
     "metadata": {},
     "output_type": "execute_result"
    }
   ],
   "source": [
    "# cleaning the name of the features\n",
    "cleaned_churn_df = churn_df.clean_names()\n",
    "cleaned_churn_df"
   ]
  },
  {
   "cell_type": "code",
   "execution_count": 5,
   "id": "04748002-8286-41d8-80b1-9f43259051f8",
   "metadata": {
    "tags": []
   },
   "outputs": [
    {
     "name": "stdout",
     "output_type": "stream",
     "text": [
      "<class 'pandas.core.frame.DataFrame'>\n",
      "RangeIndex: 7043 entries, 0 to 7042\n",
      "Data columns (total 50 columns):\n",
      " #   Column                             Non-Null Count  Dtype  \n",
      "---  ------                             --------------  -----  \n",
      " 0   customer_id                        7043 non-null   object \n",
      " 1   gender                             7043 non-null   object \n",
      " 2   age                                7043 non-null   int64  \n",
      " 3   under_30                           7043 non-null   object \n",
      " 4   senior_citizen                     7043 non-null   object \n",
      " 5   married                            7043 non-null   object \n",
      " 6   dependents                         7043 non-null   object \n",
      " 7   number_of_dependents               7043 non-null   int64  \n",
      " 8   country                            7043 non-null   object \n",
      " 9   state                              7043 non-null   object \n",
      " 10  city                               7043 non-null   object \n",
      " 11  zip_code                           7043 non-null   int64  \n",
      " 12  latitude                           7043 non-null   float64\n",
      " 13  longitude                          7043 non-null   float64\n",
      " 14  population                         7043 non-null   int64  \n",
      " 15  quarter                            7043 non-null   object \n",
      " 16  referred_a_friend                  7043 non-null   object \n",
      " 17  number_of_referrals                7043 non-null   int64  \n",
      " 18  tenure_in_months                   7043 non-null   int64  \n",
      " 19  offer                              3166 non-null   object \n",
      " 20  phone_service                      7043 non-null   object \n",
      " 21  avg_monthly_long_distance_charges  7043 non-null   float64\n",
      " 22  multiple_lines                     7043 non-null   object \n",
      " 23  internet_service                   7043 non-null   object \n",
      " 24  internet_type                      5517 non-null   object \n",
      " 25  avg_monthly_gb_download            7043 non-null   int64  \n",
      " 26  online_security                    7043 non-null   object \n",
      " 27  online_backup                      7043 non-null   object \n",
      " 28  device_protection_plan             7043 non-null   object \n",
      " 29  premium_tech_support               7043 non-null   object \n",
      " 30  streaming_tv                       7043 non-null   object \n",
      " 31  streaming_movies                   7043 non-null   object \n",
      " 32  streaming_music                    7043 non-null   object \n",
      " 33  unlimited_data                     7043 non-null   object \n",
      " 34  contract                           7043 non-null   object \n",
      " 35  paperless_billing                  7043 non-null   object \n",
      " 36  payment_method                     7043 non-null   object \n",
      " 37  monthly_charge                     7043 non-null   float64\n",
      " 38  total_charges                      7043 non-null   float64\n",
      " 39  total_refunds                      7043 non-null   float64\n",
      " 40  total_extra_data_charges           7043 non-null   int64  \n",
      " 41  total_long_distance_charges        7043 non-null   float64\n",
      " 42  total_revenue                      7043 non-null   float64\n",
      " 43  satisfaction_score                 7043 non-null   int64  \n",
      " 44  customer_status                    7043 non-null   object \n",
      " 45  churn_label                        7043 non-null   object \n",
      " 46  churn_score                        7043 non-null   int64  \n",
      " 47  cltv                               7043 non-null   int64  \n",
      " 48  churn_category                     1869 non-null   object \n",
      " 49  churn_reason                       1869 non-null   object \n",
      "dtypes: float64(8), int64(11), object(31)\n",
      "memory usage: 2.7+ MB\n"
     ]
    }
   ],
   "source": [
    "cleaned_churn_df.info()"
   ]
  },
  {
   "cell_type": "code",
   "execution_count": 6,
   "id": "0e7e1020-f488-451a-a2d6-9ae4be68309f",
   "metadata": {
    "tags": []
   },
   "outputs": [
    {
     "data": {
      "text/plain": [
       "customer_id                             0\n",
       "gender                                  0\n",
       "age                                     0\n",
       "under_30                                0\n",
       "senior_citizen                          0\n",
       "married                                 0\n",
       "dependents                              0\n",
       "number_of_dependents                    0\n",
       "country                                 0\n",
       "state                                   0\n",
       "city                                    0\n",
       "zip_code                                0\n",
       "latitude                                0\n",
       "longitude                               0\n",
       "population                              0\n",
       "quarter                                 0\n",
       "referred_a_friend                       0\n",
       "number_of_referrals                     0\n",
       "tenure_in_months                        0\n",
       "offer                                3877\n",
       "phone_service                           0\n",
       "avg_monthly_long_distance_charges       0\n",
       "multiple_lines                          0\n",
       "internet_service                        0\n",
       "internet_type                        1526\n",
       "avg_monthly_gb_download                 0\n",
       "online_security                         0\n",
       "online_backup                           0\n",
       "device_protection_plan                  0\n",
       "premium_tech_support                    0\n",
       "streaming_tv                            0\n",
       "streaming_movies                        0\n",
       "streaming_music                         0\n",
       "unlimited_data                          0\n",
       "contract                                0\n",
       "paperless_billing                       0\n",
       "payment_method                          0\n",
       "monthly_charge                          0\n",
       "total_charges                           0\n",
       "total_refunds                           0\n",
       "total_extra_data_charges                0\n",
       "total_long_distance_charges             0\n",
       "total_revenue                           0\n",
       "satisfaction_score                      0\n",
       "customer_status                         0\n",
       "churn_label                             0\n",
       "churn_score                             0\n",
       "cltv                                    0\n",
       "churn_category                       5174\n",
       "churn_reason                         5174\n",
       "dtype: int64"
      ]
     },
     "execution_count": 6,
     "metadata": {},
     "output_type": "execute_result"
    }
   ],
   "source": [
    "cleaned_churn_df.isnull().sum()"
   ]
  },
  {
   "cell_type": "markdown",
   "id": "27a3e461-dddc-4e8e-8399-3cd06e3f053e",
   "metadata": {},
   "source": [
    "Notes:\n",
    "- There are 4 columns with missing values: `Offer`, `Internet Type`, `Churn Category`, and `Churn Reason`"
   ]
  },
  {
   "cell_type": "code",
   "execution_count": 7,
   "id": "b9271cd1-246a-446b-aafe-b9f75003ce37",
   "metadata": {
    "tags": []
   },
   "outputs": [
    {
     "data": {
      "text/html": [
       "<div>\n",
       "<style scoped>\n",
       "    .dataframe tbody tr th:only-of-type {\n",
       "        vertical-align: middle;\n",
       "    }\n",
       "\n",
       "    .dataframe tbody tr th {\n",
       "        vertical-align: top;\n",
       "    }\n",
       "\n",
       "    .dataframe thead th {\n",
       "        text-align: right;\n",
       "    }\n",
       "</style>\n",
       "<table border=\"1\" class=\"dataframe\">\n",
       "  <thead>\n",
       "    <tr style=\"text-align: right;\">\n",
       "      <th></th>\n",
       "      <th>age</th>\n",
       "      <th>number_of_dependents</th>\n",
       "      <th>zip_code</th>\n",
       "      <th>latitude</th>\n",
       "      <th>longitude</th>\n",
       "      <th>population</th>\n",
       "      <th>number_of_referrals</th>\n",
       "      <th>tenure_in_months</th>\n",
       "      <th>avg_monthly_long_distance_charges</th>\n",
       "      <th>avg_monthly_gb_download</th>\n",
       "      <th>monthly_charge</th>\n",
       "      <th>total_charges</th>\n",
       "      <th>total_refunds</th>\n",
       "      <th>total_extra_data_charges</th>\n",
       "      <th>total_long_distance_charges</th>\n",
       "      <th>total_revenue</th>\n",
       "      <th>satisfaction_score</th>\n",
       "      <th>churn_score</th>\n",
       "      <th>cltv</th>\n",
       "    </tr>\n",
       "  </thead>\n",
       "  <tbody>\n",
       "    <tr>\n",
       "      <th>count</th>\n",
       "      <td>7043.000000</td>\n",
       "      <td>7043.000000</td>\n",
       "      <td>7043.000000</td>\n",
       "      <td>7043.000000</td>\n",
       "      <td>7043.000000</td>\n",
       "      <td>7043.000000</td>\n",
       "      <td>7043.000000</td>\n",
       "      <td>7043.000000</td>\n",
       "      <td>7043.000000</td>\n",
       "      <td>7043.000000</td>\n",
       "      <td>7043.000000</td>\n",
       "      <td>7043.000000</td>\n",
       "      <td>7043.000000</td>\n",
       "      <td>7043.000000</td>\n",
       "      <td>7043.000000</td>\n",
       "      <td>7043.000000</td>\n",
       "      <td>7043.000000</td>\n",
       "      <td>7043.000000</td>\n",
       "      <td>7043.000000</td>\n",
       "    </tr>\n",
       "    <tr>\n",
       "      <th>mean</th>\n",
       "      <td>46.509726</td>\n",
       "      <td>0.468692</td>\n",
       "      <td>93486.070567</td>\n",
       "      <td>36.197455</td>\n",
       "      <td>-119.756684</td>\n",
       "      <td>22139.603294</td>\n",
       "      <td>1.951867</td>\n",
       "      <td>32.386767</td>\n",
       "      <td>22.958954</td>\n",
       "      <td>20.515405</td>\n",
       "      <td>64.761692</td>\n",
       "      <td>2280.381264</td>\n",
       "      <td>1.962182</td>\n",
       "      <td>6.860713</td>\n",
       "      <td>749.099262</td>\n",
       "      <td>3034.379056</td>\n",
       "      <td>3.244924</td>\n",
       "      <td>58.505040</td>\n",
       "      <td>4400.295755</td>\n",
       "    </tr>\n",
       "    <tr>\n",
       "      <th>std</th>\n",
       "      <td>16.750352</td>\n",
       "      <td>0.962802</td>\n",
       "      <td>1856.767505</td>\n",
       "      <td>2.468929</td>\n",
       "      <td>2.154425</td>\n",
       "      <td>21152.392837</td>\n",
       "      <td>3.001199</td>\n",
       "      <td>24.542061</td>\n",
       "      <td>15.448113</td>\n",
       "      <td>20.418940</td>\n",
       "      <td>30.090047</td>\n",
       "      <td>2266.220462</td>\n",
       "      <td>7.902614</td>\n",
       "      <td>25.104978</td>\n",
       "      <td>846.660055</td>\n",
       "      <td>2865.204542</td>\n",
       "      <td>1.201657</td>\n",
       "      <td>21.170031</td>\n",
       "      <td>1183.057152</td>\n",
       "    </tr>\n",
       "    <tr>\n",
       "      <th>min</th>\n",
       "      <td>19.000000</td>\n",
       "      <td>0.000000</td>\n",
       "      <td>90001.000000</td>\n",
       "      <td>32.555828</td>\n",
       "      <td>-124.301372</td>\n",
       "      <td>11.000000</td>\n",
       "      <td>0.000000</td>\n",
       "      <td>1.000000</td>\n",
       "      <td>0.000000</td>\n",
       "      <td>0.000000</td>\n",
       "      <td>18.250000</td>\n",
       "      <td>18.800000</td>\n",
       "      <td>0.000000</td>\n",
       "      <td>0.000000</td>\n",
       "      <td>0.000000</td>\n",
       "      <td>21.360000</td>\n",
       "      <td>1.000000</td>\n",
       "      <td>5.000000</td>\n",
       "      <td>2003.000000</td>\n",
       "    </tr>\n",
       "    <tr>\n",
       "      <th>25%</th>\n",
       "      <td>32.000000</td>\n",
       "      <td>0.000000</td>\n",
       "      <td>92101.000000</td>\n",
       "      <td>33.990646</td>\n",
       "      <td>-121.788090</td>\n",
       "      <td>2344.000000</td>\n",
       "      <td>0.000000</td>\n",
       "      <td>9.000000</td>\n",
       "      <td>9.210000</td>\n",
       "      <td>3.000000</td>\n",
       "      <td>35.500000</td>\n",
       "      <td>400.150000</td>\n",
       "      <td>0.000000</td>\n",
       "      <td>0.000000</td>\n",
       "      <td>70.545000</td>\n",
       "      <td>605.610000</td>\n",
       "      <td>3.000000</td>\n",
       "      <td>40.000000</td>\n",
       "      <td>3469.000000</td>\n",
       "    </tr>\n",
       "    <tr>\n",
       "      <th>50%</th>\n",
       "      <td>46.000000</td>\n",
       "      <td>0.000000</td>\n",
       "      <td>93518.000000</td>\n",
       "      <td>36.205465</td>\n",
       "      <td>-119.595293</td>\n",
       "      <td>17554.000000</td>\n",
       "      <td>0.000000</td>\n",
       "      <td>29.000000</td>\n",
       "      <td>22.890000</td>\n",
       "      <td>17.000000</td>\n",
       "      <td>70.350000</td>\n",
       "      <td>1394.550000</td>\n",
       "      <td>0.000000</td>\n",
       "      <td>0.000000</td>\n",
       "      <td>401.440000</td>\n",
       "      <td>2108.640000</td>\n",
       "      <td>3.000000</td>\n",
       "      <td>61.000000</td>\n",
       "      <td>4527.000000</td>\n",
       "    </tr>\n",
       "    <tr>\n",
       "      <th>75%</th>\n",
       "      <td>60.000000</td>\n",
       "      <td>0.000000</td>\n",
       "      <td>95329.000000</td>\n",
       "      <td>38.161321</td>\n",
       "      <td>-117.969795</td>\n",
       "      <td>36125.000000</td>\n",
       "      <td>3.000000</td>\n",
       "      <td>55.000000</td>\n",
       "      <td>36.395000</td>\n",
       "      <td>27.000000</td>\n",
       "      <td>89.850000</td>\n",
       "      <td>3786.600000</td>\n",
       "      <td>0.000000</td>\n",
       "      <td>0.000000</td>\n",
       "      <td>1191.100000</td>\n",
       "      <td>4801.145000</td>\n",
       "      <td>4.000000</td>\n",
       "      <td>75.500000</td>\n",
       "      <td>5380.500000</td>\n",
       "    </tr>\n",
       "    <tr>\n",
       "      <th>max</th>\n",
       "      <td>80.000000</td>\n",
       "      <td>9.000000</td>\n",
       "      <td>96150.000000</td>\n",
       "      <td>41.962127</td>\n",
       "      <td>-114.192901</td>\n",
       "      <td>105285.000000</td>\n",
       "      <td>11.000000</td>\n",
       "      <td>72.000000</td>\n",
       "      <td>49.990000</td>\n",
       "      <td>85.000000</td>\n",
       "      <td>118.750000</td>\n",
       "      <td>8684.800000</td>\n",
       "      <td>49.790000</td>\n",
       "      <td>150.000000</td>\n",
       "      <td>3564.720000</td>\n",
       "      <td>11979.340000</td>\n",
       "      <td>5.000000</td>\n",
       "      <td>96.000000</td>\n",
       "      <td>6500.000000</td>\n",
       "    </tr>\n",
       "  </tbody>\n",
       "</table>\n",
       "</div>"
      ],
      "text/plain": [
       "               age  number_of_dependents      zip_code     latitude  \\\n",
       "count  7043.000000           7043.000000   7043.000000  7043.000000   \n",
       "mean     46.509726              0.468692  93486.070567    36.197455   \n",
       "std      16.750352              0.962802   1856.767505     2.468929   \n",
       "min      19.000000              0.000000  90001.000000    32.555828   \n",
       "25%      32.000000              0.000000  92101.000000    33.990646   \n",
       "50%      46.000000              0.000000  93518.000000    36.205465   \n",
       "75%      60.000000              0.000000  95329.000000    38.161321   \n",
       "max      80.000000              9.000000  96150.000000    41.962127   \n",
       "\n",
       "         longitude     population  number_of_referrals  tenure_in_months  \\\n",
       "count  7043.000000    7043.000000          7043.000000       7043.000000   \n",
       "mean   -119.756684   22139.603294             1.951867         32.386767   \n",
       "std       2.154425   21152.392837             3.001199         24.542061   \n",
       "min    -124.301372      11.000000             0.000000          1.000000   \n",
       "25%    -121.788090    2344.000000             0.000000          9.000000   \n",
       "50%    -119.595293   17554.000000             0.000000         29.000000   \n",
       "75%    -117.969795   36125.000000             3.000000         55.000000   \n",
       "max    -114.192901  105285.000000            11.000000         72.000000   \n",
       "\n",
       "       avg_monthly_long_distance_charges  avg_monthly_gb_download  \\\n",
       "count                        7043.000000              7043.000000   \n",
       "mean                           22.958954                20.515405   \n",
       "std                            15.448113                20.418940   \n",
       "min                             0.000000                 0.000000   \n",
       "25%                             9.210000                 3.000000   \n",
       "50%                            22.890000                17.000000   \n",
       "75%                            36.395000                27.000000   \n",
       "max                            49.990000                85.000000   \n",
       "\n",
       "       monthly_charge  total_charges  total_refunds  total_extra_data_charges  \\\n",
       "count     7043.000000    7043.000000    7043.000000               7043.000000   \n",
       "mean        64.761692    2280.381264       1.962182                  6.860713   \n",
       "std         30.090047    2266.220462       7.902614                 25.104978   \n",
       "min         18.250000      18.800000       0.000000                  0.000000   \n",
       "25%         35.500000     400.150000       0.000000                  0.000000   \n",
       "50%         70.350000    1394.550000       0.000000                  0.000000   \n",
       "75%         89.850000    3786.600000       0.000000                  0.000000   \n",
       "max        118.750000    8684.800000      49.790000                150.000000   \n",
       "\n",
       "       total_long_distance_charges  total_revenue  satisfaction_score  \\\n",
       "count                  7043.000000    7043.000000         7043.000000   \n",
       "mean                    749.099262    3034.379056            3.244924   \n",
       "std                     846.660055    2865.204542            1.201657   \n",
       "min                       0.000000      21.360000            1.000000   \n",
       "25%                      70.545000     605.610000            3.000000   \n",
       "50%                     401.440000    2108.640000            3.000000   \n",
       "75%                    1191.100000    4801.145000            4.000000   \n",
       "max                    3564.720000   11979.340000            5.000000   \n",
       "\n",
       "       churn_score         cltv  \n",
       "count  7043.000000  7043.000000  \n",
       "mean     58.505040  4400.295755  \n",
       "std      21.170031  1183.057152  \n",
       "min       5.000000  2003.000000  \n",
       "25%      40.000000  3469.000000  \n",
       "50%      61.000000  4527.000000  \n",
       "75%      75.500000  5380.500000  \n",
       "max      96.000000  6500.000000  "
      ]
     },
     "execution_count": 7,
     "metadata": {},
     "output_type": "execute_result"
    }
   ],
   "source": [
    "cleaned_churn_df.describe()"
   ]
  },
  {
   "cell_type": "markdown",
   "id": "a76824e4-b47b-4afb-ace4-badd18fb89e9",
   "metadata": {},
   "source": [
    "Notes:\n",
    "- Minimum `Age` of a person in the dataset is 19 years and the maximum is 80 years.\n",
    "- `Dependents` range from 0 to 9\n",
    "- `Number of Referrals` range from 0 to 11\n",
    "- `Tenure in months` range from 1 to 72\n",
    "- `Total Charges` range from 18.25 to 8684.8"
   ]
  },
  {
   "cell_type": "code",
   "execution_count": 11,
   "id": "530e60f4-0f84-4d16-9c3c-e7d05be40cd1",
   "metadata": {
    "tags": []
   },
   "outputs": [
    {
     "data": {
      "text/plain": [
       "country                      1\n",
       "state                        1\n",
       "quarter                      1\n",
       "multiple_lines               2\n",
       "streaming_tv                 2\n",
       "premium_tech_support         2\n",
       "device_protection_plan       2\n",
       "online_backup                2\n",
       "online_security              2\n",
       "unlimited_data               2\n",
       "internet_service             2\n",
       "phone_service                2\n",
       "paperless_billing            2\n",
       "referred_a_friend            2\n",
       "churn_label                  2\n",
       "dependents                   2\n",
       "married                      2\n",
       "senior_citizen               2\n",
       "under_30                     2\n",
       "gender                       2\n",
       "streaming_movies             2\n",
       "streaming_music              2\n",
       "contract                     3\n",
       "internet_type                3\n",
       "payment_method               3\n",
       "customer_status              3\n",
       "offer                        5\n",
       "churn_category               5\n",
       "churn_reason                20\n",
       "city                      1106\n",
       "customer_id               7043\n",
       "dtype: int64"
      ]
     },
     "execution_count": 11,
     "metadata": {},
     "output_type": "execute_result"
    }
   ],
   "source": [
    "# categorical columns breakdown\n",
    "cleaned_churn_df.select_dtypes(\"object\").nunique().sort_values()"
   ]
  },
  {
   "cell_type": "code",
   "execution_count": 12,
   "id": "6e1e2b8d-a1c7-44f1-ac8a-5c0c6ee2aad2",
   "metadata": {
    "tags": []
   },
   "outputs": [
    {
     "data": {
      "text/plain": [
       "np.int64(0)"
      ]
     },
     "execution_count": 12,
     "metadata": {},
     "output_type": "execute_result"
    }
   ],
   "source": [
    "# duplicate rows\n",
    "cleaned_churn_df.duplicated().sum()"
   ]
  },
  {
   "cell_type": "markdown",
   "id": "175311ec-f355-4fa9-95e1-bae66219b5ee",
   "metadata": {
    "tags": []
   },
   "source": [
    "## Visualizations"
   ]
  },
  {
   "cell_type": "code",
   "execution_count": 16,
   "id": "38d0ca6d-6d5d-487b-99d2-78a36dc66029",
   "metadata": {
    "tags": []
   },
   "outputs": [
    {
     "name": "stderr",
     "output_type": "stream",
     "text": [
      "/var/folders/vz/t7hhp_d94_x5_9qpjz3_2bf80000gn/T/ipykernel_10158/2913870729.py:3: FutureWarning: \n",
      "\n",
      "Passing `palette` without assigning `hue` is deprecated and will be removed in v0.14.0. Assign the `x` variable to `hue` and set `legend=False` for the same effect.\n",
      "\n",
      "  sns.countplot(data=cleaned_churn_df, x=\"churn_label\",\n"
     ]
    },
    {
     "data": {
      "image/png": "[encoded data removed]",
      "text/plain": [
       "<Figure size 600x400 with 1 Axes>"
      ]
     },
     "metadata": {},
     "output_type": "display_data"
    }
   ],
   "source": [
    "# checking churn distribution\n",
    "plt.figure(figsize=(6,4))\n",
    "sns.countplot(data=cleaned_churn_df, x=\"churn_label\",\n",
    "              palette=\"Set2\")\n",
    "plt.title(\"Churn Distribution\")\n",
    "plt.show()"
   ]
  },
  {
   "cell_type": "markdown",
   "id": "2d468cff-fbf7-4cba-9a5c-16e2cbcec3d9",
   "metadata": {},
   "source": [
    "Visualizing the class imbalance!"
   ]
  },
  {
   "cell_type": "code",
   "execution_count": 23,
   "id": "eccbc09a-555b-484b-8c23-8aa93ed1ded1",
   "metadata": {
    "tags": []
   },
   "outputs": [
    {
     "name": "stderr",
     "output_type": "stream",
     "text": [
      "/var/folders/vz/t7hhp_d94_x5_9qpjz3_2bf80000gn/T/ipykernel_10158/2710133845.py:6: FutureWarning: \n",
      "\n",
      "Passing `palette` without assigning `hue` is deprecated and will be removed in v0.14.0. Assign the `x` variable to `hue` and set `legend=False` for the same effect.\n",
      "\n",
      "  sns.boxplot(data=cleaned_churn_df, x=\"churn_label\",\n"
     ]
    },
    {
     "data": {
      "image/png": "[encoded data removed]",
      "text/plain": [
       "<Figure size 800x400 with 1 Axes>"
      ]
     },
     "metadata": {},
     "output_type": "display_data"
    },
    {
     "name": "stderr",
     "output_type": "stream",
     "text": [
      "/var/folders/vz/t7hhp_d94_x5_9qpjz3_2bf80000gn/T/ipykernel_10158/2710133845.py:6: FutureWarning: \n",
      "\n",
      "Passing `palette` without assigning `hue` is deprecated and will be removed in v0.14.0. Assign the `x` variable to `hue` and set `legend=False` for the same effect.\n",
      "\n",
      "  sns.boxplot(data=cleaned_churn_df, x=\"churn_label\",\n"
     ]
    },
    {
     "data": {
      "image/png": "[encoded data removed]",
      "text/plain": [
       "<Figure size 800x400 with 1 Axes>"
      ]
     },
     "metadata": {},
     "output_type": "display_data"
    },
    {
     "name": "stderr",
     "output_type": "stream",
     "text": [
      "/var/folders/vz/t7hhp_d94_x5_9qpjz3_2bf80000gn/T/ipykernel_10158/2710133845.py:6: FutureWarning: \n",
      "\n",
      "Passing `palette` without assigning `hue` is deprecated and will be removed in v0.14.0. Assign the `x` variable to `hue` and set `legend=False` for the same effect.\n",
      "\n",
      "  sns.boxplot(data=cleaned_churn_df, x=\"churn_label\",\n"
     ]
    },
    {
     "data": {
      "image/png": "[encoded data removed]",
      "text/plain": [
       "<Figure size 800x400 with 1 Axes>"
      ]
     },
     "metadata": {},
     "output_type": "display_data"
    }
   ],
   "source": [
    "# churn_label vs numerical/float features\n",
    "numFloat_cols = ['age', 'tenure_in_months', 'total_charges']\n",
    "\n",
    "for col in numFloat_cols:\n",
    "    plt.figure(figsize=(8,4))\n",
    "    sns.boxplot(data=cleaned_churn_df, x=\"churn_label\",\n",
    "                y=col, palette='pastel')\n",
    "    plt.title(f\"{col.replace('_', ' ').title()} vs Churn Label\")\n",
    "    plt.show()"
   ]
  },
  {
   "cell_type": "code",
   "execution_count": 21,
   "id": "c0937c76-040f-4f09-a117-e824b36fa7bc",
   "metadata": {
    "tags": []
   },
   "outputs": [
    {
     "data": {
      "image/png": "[encoded data removed]",
      "text/plain": [
       "<Figure size 800x400 with 1 Axes>"
      ]
     },
     "metadata": {},
     "output_type": "display_data"
    },
    {
     "data": {
      "image/png": "[encoded data removed]",
      "text/plain": [
       "<Figure size 800x400 with 1 Axes>"
      ]
     },
     "metadata": {},
     "output_type": "display_data"
    },
    {
     "data": {
      "image/png": "[encoded data removed]",
      "text/plain": [
       "<Figure size 800x400 with 1 Axes>"
      ]
     },
     "metadata": {},
     "output_type": "display_data"
    }
   ],
   "source": [
    "# churn by contract type /Internet Type/Payment Method\n",
    "categorical_cols = [\"contract\", \"internet_type\", \"payment_method\"]\n",
    "\n",
    "for col in categorical_cols:\n",
    "    plt.figure(figsize=(8,4))\n",
    "    sns.countplot(data=cleaned_churn_df, x=col,\n",
    "                  hue='churn_label', palette=\"coolwarm\")\n",
    "    plt.title(f\"Churn by {col.replace('_', ' ').title()}\")\n",
    "    plt.xticks(rotation=45)\n",
    "    plt.tight_layout()\n",
    "    plt.show()"
   ]
  },
  {
   "cell_type": "markdown",
   "id": "df838a9d-4dc2-48ca-b4d1-072f5d038ec9",
   "metadata": {},
   "source": [
    "### 1. Who is more likely to churn?"
   ]
  },
  {
   "cell_type": "code",
   "execution_count": 26,
   "id": "aa6ff7b4-571c-4912-ac14-b5d0d6e693aa",
   "metadata": {
    "tags": []
   },
   "outputs": [
    {
     "data": {
      "image/png": "[encoded data removed]",
      "text/plain": [
       "<Figure size 800x400 with 1 Axes>"
      ]
     },
     "metadata": {},
     "output_type": "display_data"
    },
    {
     "data": {
      "image/png": "[encoded data removed]",
      "text/plain": [
       "<Figure size 800x400 with 1 Axes>"
      ]
     },
     "metadata": {},
     "output_type": "display_data"
    },
    {
     "data": {
      "image/png": "[encoded data removed]",
      "text/plain": [
       "<Figure size 800x400 with 1 Axes>"
      ]
     },
     "metadata": {},
     "output_type": "display_data"
    }
   ],
   "source": [
    "categorical_cols = [\"gender\", \"senior_citizen\", \"dependents\"]\n",
    "\n",
    "for col in categorical_cols:\n",
    "    plt.figure(figsize=(8,4))\n",
    "    sns.countplot(data=cleaned_churn_df, x=col, hue=\"churn_label\",\n",
    "                  palette=\"Set2\")\n",
    "    plt.title(f\"Churn by {col.replace('_', ' ').title()}\")\n",
    "    plt.xlabel(col.replace('_', ' ').title())\n",
    "    plt.ylabel('Count')\n",
    "    plt.legend(title=\"Churn\")\n",
    "    plt.tight_layout()\n",
    "    plt.show()"
   ]
  },
  {
   "cell_type": "markdown",
   "id": "b13cc738-94b7-44a7-81ef-4589642d9e91",
   "metadata": {},
   "source": [
    "**Insights:**\n",
    "1. **Male vs. Female:**\n",
    "    - Gender does not appear to be a strong predictor of churn as both male and female customers show similar churn behavior, with slightly more males churning but the difference is negligible. \n",
    "\n",
    "2. **Senior Citizen:**\n",
    "    - Senior Citizens are more likely to churn proportionally, even though most churners overall are non-seniors due to their higher representation in the dataset.\n",
    "\n",
    "3. **Dependents:**\n",
    "    - Customers without dependents are more likely to churn compared to those with dependents. This suggests that customers with family responsibilities may have stronger reasons to maintain their service, potentially due to stability, bundle needs, or long-term usage expectations."
   ]
  },
  {
   "cell_type": "code",
   "execution_count": 31,
   "id": "4d54c62a-ee34-429e-94e8-5a1d71818fb6",
   "metadata": {
    "tags": []
   },
   "outputs": [
    {
     "data": {
      "image/png": "[encoded data removed]",
      "text/plain": [
       "<Figure size 640x480 with 1 Axes>"
      ]
     },
     "metadata": {},
     "output_type": "display_data"
    }
   ],
   "source": [
    "# more focused on senior citizens\n",
    "sns.countplot(data=cleaned_churn_df, x=\"senior_citizen\",\n",
    "              hue=\"churn_label\", palette=\"pastel\")\n",
    "plt.title(\"Senior Citizens and Churn\")\n",
    "plt.xticks([0,1], labels=[\"Not Senior\", \"Senior\"])\n",
    "plt.show()"
   ]
  },
  {
   "cell_type": "markdown",
   "id": "4ffa9705-1289-4c19-86d6-4faca9b758af",
   "metadata": {},
   "source": [
    "### 2. Does `contract` length affect churn?"
   ]
  },
  {
   "cell_type": "code",
   "execution_count": 27,
   "id": "8e2fcc17-1910-4dfa-9c83-28c4e06948e9",
   "metadata": {
    "tags": []
   },
   "outputs": [
    {
     "name": "stderr",
     "output_type": "stream",
     "text": [
      "/var/folders/vz/t7hhp_d94_x5_9qpjz3_2bf80000gn/T/ipykernel_10158/230769990.py:2: FutureWarning: \n",
      "\n",
      "Passing `palette` without assigning `hue` is deprecated and will be removed in v0.14.0. Assign the `x` variable to `hue` and set `legend=False` for the same effect.\n",
      "\n",
      "  sns.countplot(data=cleaned_churn_df, x=\"contract\",\n"
     ]
    },
    {
     "data": {
      "image/png": "[encoded data removed]",
      "text/plain": [
       "<Figure size 600x400 with 1 Axes>"
      ]
     },
     "metadata": {},
     "output_type": "display_data"
    }
   ],
   "source": [
    "plt.figure(figsize=(6,4))\n",
    "sns.countplot(data=cleaned_churn_df, x=\"contract\",\n",
    "              palette=\"Set3\")\n",
    "plt.title(\"Churn by Contract Type\")\n",
    "plt.xlabel(\"Contract Label\")\n",
    "plt.ylabel(\"Count\")\n",
    "plt.xticks(rotation=45)\n",
    "plt.tight_layout()\n",
    "plt.show()"
   ]
  },
  {
   "cell_type": "markdown",
   "id": "b6adca0a-28c5-4e0c-893c-5d31d2ad9744",
   "metadata": {},
   "source": [
    "**Insights:**\n",
    "- Customers on month-to-month contracts are far more likely to churn compared to those locked in one-year or two-year contracts. This makes sense because shorter contracts offer more flexibility to cancel any time."
   ]
  },
  {
   "cell_type": "markdown",
   "id": "31544855-1d4e-45b7-9847-a36e91d37a3c",
   "metadata": {
    "tags": []
   },
   "source": [
    "### 3. Is `internet_type` linked to churn?"
   ]
  },
  {
   "cell_type": "code",
   "execution_count": 30,
   "id": "066d2327-4d54-442e-a9e2-e070b0ea62df",
   "metadata": {
    "tags": []
   },
   "outputs": [
    {
     "data": {
      "image/png": "[encoded data removed]",
      "text/plain": [
       "<Figure size 600x400 with 1 Axes>"
      ]
     },
     "metadata": {},
     "output_type": "display_data"
    }
   ],
   "source": [
    "plt.figure(figsize=(6,4))\n",
    "sns.countplot(data=cleaned_churn_df, x=\"internet_type\",\n",
    "              hue=\"churn_label\", palette=\"Set1\")\n",
    "plt.title(\"Churn by Internet Type\")\n",
    "plt.xlabel(\"Internet Type\")\n",
    "plt.ylabel(\"Count\")\n",
    "plt.xticks(rotation=45)\n",
    "plt.tight_layout()\n",
    "plt.show()"
   ]
  },
  {
   "cell_type": "markdown",
   "id": "5876294d-9ef7-4fad-85a2-aac6bf8c1ed1",
   "metadata": {},
   "source": [
    "**Insights:**\n",
    "- Users with fiber optic internet have the highest churn rate among all internet types, with churners nearly matching non-churners. \n",
    "- Meanwhile, DSL and Cabel users are more stable, showing lower churn rates."
   ]
  },
  {
   "cell_type": "markdown",
   "id": "bbacb722-d4e3-47b0-b6a3-b36634d49415",
   "metadata": {},
   "source": [
    "### 4. Does `tenure` affect churn?"
   ]
  },
  {
   "cell_type": "code",
   "execution_count": 35,
   "id": "7fa7b971-f536-4e64-8d49-de9c34e1604c",
   "metadata": {
    "tags": []
   },
   "outputs": [
    {
     "name": "stderr",
     "output_type": "stream",
     "text": [
      "/var/folders/vz/t7hhp_d94_x5_9qpjz3_2bf80000gn/T/ipykernel_10158/1468035272.py:2: FutureWarning: \n",
      "\n",
      "Passing `palette` without assigning `hue` is deprecated and will be removed in v0.14.0. Assign the `x` variable to `hue` and set `legend=False` for the same effect.\n",
      "\n",
      "  sns.boxplot(data=cleaned_churn_df, x=\"churn_label\",\n"
     ]
    },
    {
     "data": {
      "image/png": "[encoded data removed]",
      "text/plain": [
       "<Figure size 600x400 with 1 Axes>"
      ]
     },
     "metadata": {},
     "output_type": "display_data"
    }
   ],
   "source": [
    "plt.figure(figsize=(6,4))\n",
    "sns.boxplot(data=cleaned_churn_df, x=\"churn_label\",\n",
    "            y=\"tenure_in_months\", palette=\"coolwarm\")\n",
    "plt.title(\"Tenure vs. Churn\")\n",
    "plt.xlabel(\"Churn\")\n",
    "plt.ylabel(\"Tenure (Months)\")\n",
    "plt.show()"
   ]
  },
  {
   "cell_type": "markdown",
   "id": "2ce11ad9-b84b-4798-8a05-8e196503529c",
   "metadata": {},
   "source": [
    "**Insights:**\n",
    "- Lower-tenure customers are far more likely to churn, especially within their first year. On the other hand, customers with longer tenure are more loyal and less likely to leave."
   ]
  },
  {
   "cell_type": "markdown",
   "id": "c59ce56b-ecee-409f-86bf-b4289dd72d7a",
   "metadata": {},
   "source": [
    "### 5. How does `total_charges` affect churn?"
   ]
  },
  {
   "cell_type": "code",
   "execution_count": 39,
   "id": "a4106404-b846-403a-a15a-15a39def62b1",
   "metadata": {
    "tags": []
   },
   "outputs": [
    {
     "name": "stderr",
     "output_type": "stream",
     "text": [
      "/var/folders/vz/t7hhp_d94_x5_9qpjz3_2bf80000gn/T/ipykernel_10158/2261420611.py:2: FutureWarning: \n",
      "\n",
      "Passing `palette` without assigning `hue` is deprecated and will be removed in v0.14.0. Assign the `x` variable to `hue` and set `legend=False` for the same effect.\n",
      "\n",
      "  sns.boxplot(data=cleaned_churn_df, x=\"churn_label\",\n"
     ]
    },
    {
     "data": {
      "image/png": "[encoded data removed]",
      "text/plain": [
       "<Figure size 800x400 with 1 Axes>"
      ]
     },
     "metadata": {},
     "output_type": "display_data"
    }
   ],
   "source": [
    "plt.figure(figsize=(8,4))\n",
    "sns.boxplot(data=cleaned_churn_df, x=\"churn_label\",\n",
    "            y=\"total_charges\", palette=\"viridis\")\n",
    "plt.title(\"Total Charges vs. Churn\")\n",
    "plt.xlabel(\"Churn\")\n",
    "plt.ylabel(\"Total Charges\")\n",
    "plt.show()"
   ]
  },
  {
   "cell_type": "markdown",
   "id": "d25c3079-48ca-4e8b-b9b5-c60cea1714ad",
   "metadata": {},
   "source": [
    "**Insights:**\n",
    "- Low-spending customers are significantly more likely to churn, especially those whose total charges are under $1,000. This likely ties into the earlier insight around short-tenure as they haven't been around long enough to generate higher bills.\n",
    "- In contrast, high-spending, long-term customers are more loyal, indicating a stronger relationship with the service."
   ]
  },
  {
   "cell_type": "markdown",
   "id": "59bd0836-1950-46f2-83ea-adbe721c8760",
   "metadata": {},
   "source": [
    "### 6. Does `payment_method` affect churn?"
   ]
  },
  {
   "cell_type": "code",
   "execution_count": 41,
   "id": "6fde4dd0-4f1e-460f-9e71-2d54d0f6b9a4",
   "metadata": {
    "tags": []
   },
   "outputs": [
    {
     "data": {
      "image/png": "[encoded data removed]",
      "text/plain": [
       "<Figure size 800x400 with 1 Axes>"
      ]
     },
     "metadata": {},
     "output_type": "display_data"
    }
   ],
   "source": [
    "plt.figure(figsize=(8,4))\n",
    "sns.countplot(data=cleaned_churn_df, x=\"payment_method\", hue=\"churn_label\",\n",
    "              palette=\"husl\")\n",
    "plt.title(\"Churn by Payment Method\")\n",
    "plt.xlabel(\"Payment Method\")\n",
    "plt.ylabel(\"Churn\")\n",
    "plt.xticks(rotation=45)\n",
    "plt.tight_layout()\n",
    "plt.show()"
   ]
  },
  {
   "cell_type": "markdown",
   "id": "2c2dd50a-150c-4f1f-91eb-c8ede487abb3",
   "metadata": {},
   "source": [
    "**Insights:**\n",
    "- Customers using bank withdrawal are significantly more likely to churn compared to those paying with credit cards or mailed checks.\n",
    "- Credit card users show strong retention, while mailed check users are few but almost evenly split."
   ]
  },
  {
   "cell_type": "markdown",
   "id": "0e8fecdb-642b-4093-b9d4-60aaba4d1076",
   "metadata": {
    "tags": []
   },
   "source": [
    "## Dealing with Missing values"
   ]
  },
  {
   "cell_type": "code",
   "execution_count": 43,
   "id": "b48f63cf-7369-4f5f-b374-138c744de1c8",
   "metadata": {
    "tags": []
   },
   "outputs": [
    {
     "data": {
      "text/plain": [
       "offer\n",
       "Offer B    824\n",
       "Offer E    805\n",
       "Offer D    602\n",
       "Offer A    520\n",
       "Offer C    415\n",
       "Name: count, dtype: int64"
      ]
     },
     "execution_count": 43,
     "metadata": {},
     "output_type": "execute_result"
    }
   ],
   "source": [
    "# checking the different values under `offer`\n",
    "cleaned_churn_df['offer'].value_counts()"
   ]
  },
  {
   "cell_type": "code",
   "execution_count": 44,
   "id": "5928d141-2d51-41b3-af5c-b5ca69bfeaab",
   "metadata": {
    "tags": []
   },
   "outputs": [
    {
     "data": {
      "text/plain": [
       "offer\n",
       "No Offer    3877\n",
       "Offer B      824\n",
       "Offer E      805\n",
       "Offer D      602\n",
       "Offer A      520\n",
       "Offer C      415\n",
       "Name: count, dtype: int64"
      ]
     },
     "execution_count": 44,
     "metadata": {},
     "output_type": "execute_result"
    }
   ],
   "source": [
    "# filling the missing values under `offer` with 'No Offer' which is a new category\n",
    "cleaned_churn_df['offer'] = cleaned_churn_df['offer'].fillna('No Offer')\n",
    "cleaned_churn_df['offer'].value_counts()"
   ]
  },
  {
   "cell_type": "code",
   "execution_count": 45,
   "id": "acfca215-610c-484e-adb2-494f3296fe44",
   "metadata": {
    "tags": []
   },
   "outputs": [
    {
     "data": {
      "text/plain": [
       "internet_type\n",
       "Fiber Optic    3035\n",
       "DSL            1652\n",
       "Cable           830\n",
       "Name: count, dtype: int64"
      ]
     },
     "execution_count": 45,
     "metadata": {},
     "output_type": "execute_result"
    }
   ],
   "source": [
    "cleaned_churn_df['internet_type'].value_counts()"
   ]
  },
  {
   "cell_type": "code",
   "execution_count": 46,
   "id": "49f8848e-f193-477b-ab60-d1c8102c333a",
   "metadata": {
    "tags": []
   },
   "outputs": [
    {
     "data": {
      "text/plain": [
       "internet_type\n",
       "Fiber Optic    3035\n",
       "DSL            1652\n",
       "No Internet    1526\n",
       "Cable           830\n",
       "Name: count, dtype: int64"
      ]
     },
     "execution_count": 46,
     "metadata": {},
     "output_type": "execute_result"
    }
   ],
   "source": [
    "cleaned_churn_df['internet_type'] = cleaned_churn_df['internet_type'].fillna('No Internet')\n",
    "cleaned_churn_df['internet_type'].value_counts()"
   ]
  },
  {
   "cell_type": "code",
   "execution_count": 47,
   "id": "4f110bb9-968d-4586-98c8-590ea1816e7a",
   "metadata": {
    "tags": []
   },
   "outputs": [
    {
     "data": {
      "text/plain": [
       "churn_category\n",
       "Competitor         841\n",
       "Attitude           314\n",
       "Dissatisfaction    303\n",
       "Price              211\n",
       "Other              200\n",
       "Name: count, dtype: int64"
      ]
     },
     "execution_count": 47,
     "metadata": {},
     "output_type": "execute_result"
    }
   ],
   "source": [
    "cleaned_churn_df['churn_category'].value_counts()"
   ]
  },
  {
   "cell_type": "code",
   "execution_count": 49,
   "id": "409db508-0a7e-493c-bde8-2904c94369ba",
   "metadata": {
    "tags": []
   },
   "outputs": [
    {
     "data": {
      "text/plain": [
       "churn_category\n",
       "Not Applicable     5174\n",
       "Competitor          841\n",
       "Attitude            314\n",
       "Dissatisfaction     303\n",
       "Price               211\n",
       "Other               200\n",
       "Name: count, dtype: int64"
      ]
     },
     "execution_count": 49,
     "metadata": {},
     "output_type": "execute_result"
    }
   ],
   "source": [
    "cleaned_churn_df['churn_category'] = cleaned_churn_df['churn_category'].fillna('Not Applicable')\n",
    "cleaned_churn_df['churn_category'].value_counts()"
   ]
  },
  {
   "cell_type": "code",
   "execution_count": 50,
   "id": "a494c44e-675f-4caf-9cf5-41b6375a130f",
   "metadata": {
    "tags": []
   },
   "outputs": [
    {
     "data": {
      "text/plain": [
       "churn_reason\n",
       "Competitor had better devices                313\n",
       "Competitor made better offer                 311\n",
       "Attitude of support person                   220\n",
       "Don't know                                   130\n",
       "Competitor offered more data                 117\n",
       "Competitor offered higher download speeds    100\n",
       "Attitude of service provider                  94\n",
       "Price too high                                78\n",
       "Product dissatisfaction                       77\n",
       "Network reliability                           72\n",
       "Long distance charges                         64\n",
       "Service dissatisfaction                       63\n",
       "Moved                                         46\n",
       "Extra data charges                            39\n",
       "Limited range of services                     37\n",
       "Poor expertise of online support              31\n",
       "Lack of affordable download/upload speed      30\n",
       "Lack of self-service on Website               29\n",
       "Poor expertise of phone support               12\n",
       "Deceased                                       6\n",
       "Name: count, dtype: int64"
      ]
     },
     "execution_count": 50,
     "metadata": {},
     "output_type": "execute_result"
    }
   ],
   "source": [
    "cleaned_churn_df['churn_reason'].value_counts()"
   ]
  },
  {
   "cell_type": "code",
   "execution_count": 51,
   "id": "2672f63f-7972-4b62-95fa-6a6fdf64a65a",
   "metadata": {
    "tags": []
   },
   "outputs": [
    {
     "data": {
      "text/plain": [
       "churn_reason\n",
       "Don't know                                   5304\n",
       "Competitor had better devices                 313\n",
       "Competitor made better offer                  311\n",
       "Attitude of support person                    220\n",
       "Competitor offered more data                  117\n",
       "Competitor offered higher download speeds     100\n",
       "Attitude of service provider                   94\n",
       "Price too high                                 78\n",
       "Product dissatisfaction                        77\n",
       "Network reliability                            72\n",
       "Long distance charges                          64\n",
       "Service dissatisfaction                        63\n",
       "Moved                                          46\n",
       "Extra data charges                             39\n",
       "Limited range of services                      37\n",
       "Poor expertise of online support               31\n",
       "Lack of affordable download/upload speed       30\n",
       "Lack of self-service on Website                29\n",
       "Poor expertise of phone support                12\n",
       "Deceased                                        6\n",
       "Name: count, dtype: int64"
      ]
     },
     "execution_count": 51,
     "metadata": {},
     "output_type": "execute_result"
    }
   ],
   "source": [
    "cleaned_churn_df['churn_reason'] = cleaned_churn_df['churn_reason'].fillna(\"Don't know\")\n",
    "cleaned_churn_df['churn_reason'].value_counts()"
   ]
  },
  {
   "cell_type": "code",
   "execution_count": 52,
   "id": "998e10c8-a2a6-4fda-87cd-ed2da11a7691",
   "metadata": {
    "tags": []
   },
   "outputs": [
    {
     "data": {
      "text/plain": [
       "customer_id                          0\n",
       "gender                               0\n",
       "age                                  0\n",
       "under_30                             0\n",
       "senior_citizen                       0\n",
       "married                              0\n",
       "dependents                           0\n",
       "number_of_dependents                 0\n",
       "country                              0\n",
       "state                                0\n",
       "city                                 0\n",
       "zip_code                             0\n",
       "latitude                             0\n",
       "longitude                            0\n",
       "population                           0\n",
       "quarter                              0\n",
       "referred_a_friend                    0\n",
       "number_of_referrals                  0\n",
       "tenure_in_months                     0\n",
       "offer                                0\n",
       "phone_service                        0\n",
       "avg_monthly_long_distance_charges    0\n",
       "multiple_lines                       0\n",
       "internet_service                     0\n",
       "internet_type                        0\n",
       "avg_monthly_gb_download              0\n",
       "online_security                      0\n",
       "online_backup                        0\n",
       "device_protection_plan               0\n",
       "premium_tech_support                 0\n",
       "streaming_tv                         0\n",
       "streaming_movies                     0\n",
       "streaming_music                      0\n",
       "unlimited_data                       0\n",
       "contract                             0\n",
       "paperless_billing                    0\n",
       "payment_method                       0\n",
       "monthly_charge                       0\n",
       "total_charges                        0\n",
       "total_refunds                        0\n",
       "total_extra_data_charges             0\n",
       "total_long_distance_charges          0\n",
       "total_revenue                        0\n",
       "satisfaction_score                   0\n",
       "customer_status                      0\n",
       "churn_label                          0\n",
       "churn_score                          0\n",
       "cltv                                 0\n",
       "churn_category                       0\n",
       "churn_reason                         0\n",
       "dtype: int64"
      ]
     },
     "execution_count": 52,
     "metadata": {},
     "output_type": "execute_result"
    }
   ],
   "source": [
    "cleaned_churn_df.isnull().sum()"
   ]
  },
  {
   "cell_type": "markdown",
   "id": "265982b4-4d30-4472-876a-5623701d1fb3",
   "metadata": {},
   "source": [
    "There are no null values present in the cleaned dataset!"
   ]
  },
  {
   "cell_type": "markdown",
   "id": "000354ab-e3fc-42d9-9911-61a800345e57",
   "metadata": {
    "tags": []
   },
   "source": [
    "## Saving the cleaned dataset"
   ]
  },
  {
   "cell_type": "code",
   "execution_count": 53,
   "id": "133f00cf-7588-42ac-be5e-13fb8c3e2e70",
   "metadata": {
    "tags": []
   },
   "outputs": [
    {
     "name": "stdout",
     "output_type": "stream",
     "text": [
      "Cleaned dataset saved to ../data/cleaned_churn_data.csv\n"
     ]
    }
   ],
   "source": [
    "output_path = \"../data/cleaned_churn_data.csv\"\n",
    "cleaned_churn_df.to_csv(output_path, index=False)\n",
    "print(f\"Cleaned dataset saved to {output_path}\")"
   ]
  },
  {
   "cell_type": "code",
   "execution_count": null,
   "id": "6b02c1b4-f878-4c7c-a2c5-791d97185928",
   "metadata": {},
   "outputs": [],
   "source": []
  }
 ],
 "metadata": {
  "kernelspec": {
   "display_name": "Python (Customer Churn)",
   "language": "python",
   "name": "churn-env"
  },
  "language_info": {
   "codemirror_mode": {
    "name": "ipython",
    "version": 3
   },
   "file_extension": ".py",
   "mimetype": "text/x-python",
   "name": "python",
   "nbconvert_exporter": "python",
   "pygments_lexer": "ipython3",
   "version": "3.11.5"
  }
 },
 "nbformat": 4,
 "nbformat_minor": 5
}
