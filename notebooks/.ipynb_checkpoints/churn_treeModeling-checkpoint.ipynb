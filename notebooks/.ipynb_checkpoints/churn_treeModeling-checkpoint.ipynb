{
 "cells": [
  {
   "cell_type": "code",
   "execution_count": 1,
   "id": "8a52a819-3696-4959-929d-3a97b1f3424b",
   "metadata": {},
   "outputs": [],
   "source": [
    "import pandas as pd\n",
    "import numpy as np"
   ]
  },
  {
   "cell_type": "code",
   "execution_count": 2,
   "id": "9d52b6c8-d7ea-4108-a28c-97b83c407ed1",
   "metadata": {},
   "outputs": [
    {
     "name": "stdout",
     "output_type": "stream",
     "text": [
      "<class 'pandas.core.frame.DataFrame'>\n",
      "RangeIndex: 7043 entries, 0 to 7042\n",
      "Data columns (total 40 columns):\n",
      " #   Column                             Non-Null Count  Dtype  \n",
      "---  ------                             --------------  -----  \n",
      " 0   gender                             7043 non-null   int64  \n",
      " 1   age                                7043 non-null   int64  \n",
      " 2   married                            7043 non-null   int64  \n",
      " 3   number_of_dependents               7043 non-null   int64  \n",
      " 4   zip_code                           7043 non-null   int64  \n",
      " 5   population                         7043 non-null   int64  \n",
      " 6   tenure_in_months                   7043 non-null   int64  \n",
      " 7   phone_service                      7043 non-null   int64  \n",
      " 8   avg_monthly_long_distance_charges  7043 non-null   float64\n",
      " 9   multiple_lines                     7043 non-null   int64  \n",
      " 10  internet_service                   7043 non-null   int64  \n",
      " 11  avg_monthly_gb_download            7043 non-null   int64  \n",
      " 12  online_security                    7043 non-null   int64  \n",
      " 13  online_backup                      7043 non-null   int64  \n",
      " 14  device_protection_plan             7043 non-null   int64  \n",
      " 15  premium_tech_support               7043 non-null   int64  \n",
      " 16  streaming_tv                       7043 non-null   int64  \n",
      " 17  streaming_movies                   7043 non-null   int64  \n",
      " 18  streaming_music                    7043 non-null   int64  \n",
      " 19  unlimited_data                     7043 non-null   int64  \n",
      " 20  paperless_billing                  7043 non-null   int64  \n",
      " 21  monthly_charge                     7043 non-null   float64\n",
      " 22  total_charges                      7043 non-null   float64\n",
      " 23  total_refunds                      7043 non-null   float64\n",
      " 24  total_extra_data_charges           7043 non-null   int64  \n",
      " 25  total_long_distance_charges        7043 non-null   float64\n",
      " 26  total_revenue                      7043 non-null   float64\n",
      " 27  satisfaction_score                 7043 non-null   int64  \n",
      " 28  churn_label                        7043 non-null   int64  \n",
      " 29  cltv                               7043 non-null   int64  \n",
      " 30  internet_type_Cable                7043 non-null   bool   \n",
      " 31  internet_type_DSL                  7043 non-null   bool   \n",
      " 32  internet_type_Fiber Optic          7043 non-null   bool   \n",
      " 33  internet_type_No Internet          7043 non-null   bool   \n",
      " 34  contract_Month-to-Month            7043 non-null   bool   \n",
      " 35  contract_One Year                  7043 non-null   bool   \n",
      " 36  contract_Two Year                  7043 non-null   bool   \n",
      " 37  payment_method_Bank Withdrawal     7043 non-null   bool   \n",
      " 38  payment_method_Credit Card         7043 non-null   bool   \n",
      " 39  payment_method_Mailed Check        7043 non-null   bool   \n",
      "dtypes: bool(10), float64(6), int64(24)\n",
      "memory usage: 1.7 MB\n"
     ]
    }
   ],
   "source": [
    "tree_df = pd.read_csv(\"../data/tree_data.csv\")\n",
    "tree_df.info()"
   ]
  },
  {
   "cell_type": "markdown",
   "id": "53f49b08-a3c7-4197-bcd4-008f33a67ee1",
   "metadata": {},
   "source": [
    "## Train-Test Split"
   ]
  },
  {
   "cell_type": "code",
   "execution_count": 3,
   "id": "8cbdc4cd-59d8-450a-9963-6cce07048841",
   "metadata": {},
   "outputs": [
    {
     "name": "stdout",
     "output_type": "stream",
     "text": [
      "             Train Proportion  Test Proportion\n",
      "churn_label                                   \n",
      "0                    0.734647         0.734564\n",
      "1                    0.265353         0.265436\n"
     ]
    }
   ],
   "source": [
    "from sklearn.model_selection import train_test_split\n",
    "\n",
    "# separate features and target\n",
    "X = tree_df.drop(columns=[\"churn_label\"])\n",
    "y = tree_df['churn_label']\n",
    "\n",
    "X_train, X_test, y_train, y_test = train_test_split(X, y, test_size=0.2, random_state=42,\n",
    "                                                    stratify=y)\n",
    "\n",
    "# check class distributions\n",
    "train_dist = y_train.value_counts(normalize=True).rename(\"Train Proportion\")\n",
    "test_dist = y_test.value_counts(normalize=True).rename(\"Test Proportion\")\n",
    "class_distribution = pd.concat([train_dist, test_dist], axis=1)\n",
    "\n",
    "print(class_distribution)"
   ]
  },
  {
   "cell_type": "markdown",
   "id": "57a52c1d-ce68-4676-87b7-fe07c52d4b5a",
   "metadata": {},
   "source": [
    "## Decision Tree Classifier"
   ]
  },
  {
   "cell_type": "code",
   "execution_count": 6,
   "id": "2f740fc8-63ad-44f8-9b01-f84f630a0cb9",
   "metadata": {},
   "outputs": [],
   "source": [
    "from sklearn.tree import DecisionTreeClassifier\n",
    "from sklearn.metrics import classification_report, confusion_matrix, roc_auc_score, roc_curve\n",
    "\n",
    "dt_model = DecisionTreeClassifier(random_state=42)\n",
    "dt_model.fit(X_train, y_train)\n",
    "\n",
    "# make predictions\n",
    "y_pred_dt = dt_model.predict(X_test)\n",
    "y_prob_dt = dt_model.predict_proba(X_test)[:,1]"
   ]
  },
  {
   "cell_type": "code",
   "execution_count": 9,
   "id": "d3449a54-50cb-45d1-8ea8-8c3e68a77fa9",
   "metadata": {},
   "outputs": [
    {
     "name": "stdout",
     "output_type": "stream",
     "text": [
      "Confusion Matrix:\n",
      " [[998  37]\n",
      " [ 38 336]]\n",
      "\n",
      "Classification Report:\n",
      "               precision    recall  f1-score   support\n",
      "\n",
      "           0       0.96      0.96      0.96      1035\n",
      "           1       0.90      0.90      0.90       374\n",
      "\n",
      "    accuracy                           0.95      1409\n",
      "   macro avg       0.93      0.93      0.93      1409\n",
      "weighted avg       0.95      0.95      0.95      1409\n",
      "\n",
      "ROC AUC Score: 0.93\n"
     ]
    }
   ],
   "source": [
    "# confusion matrix\n",
    "print(\"Confusion Matrix:\\n\", confusion_matrix(y_test, y_pred_dt))\n",
    "\n",
    "# classification report\n",
    "print(\"\\nClassification Report:\\n\", classification_report(y_test, y_pred_dt))\n",
    "\n",
    "# ROC AUC score\n",
    "auc = roc_auc_score(y_test, y_prob_dt)\n",
    "print(f\"ROC AUC Score: {auc:.2f}\")"
   ]
  },
  {
   "cell_type": "markdown",
   "id": "07c60a3c-9feb-4fec-8a9d-daf8f6e347b9",
   "metadata": {},
   "source": [
    "**Insights:**\n",
    "- **Accuracy:** 0.95\n",
    "- **Recall for label 0:** 0.96 (few false negatives)\n",
    "- **Recall for label 1:** 0.90 (few false negatives)\n",
    "- **F-1 Score for label 1:** 0.90\n",
    "- **ROC AUC Score:** 0.93 (model is able to separate the classes)"
   ]
  },
  {
   "cell_type": "code",
   "execution_count": null,
   "id": "9229a6ae-242e-416b-8778-39b1ec667f2a",
   "metadata": {},
   "outputs": [],
   "source": []
  }
 ],
 "metadata": {
  "kernelspec": {
   "display_name": "Python (Customer Churn)",
   "language": "python",
   "name": "churn-env"
  },
  "language_info": {
   "codemirror_mode": {
    "name": "ipython",
    "version": 3
   },
   "file_extension": ".py",
   "mimetype": "text/x-python",
   "name": "python",
   "nbconvert_exporter": "python",
   "pygments_lexer": "ipython3",
   "version": "3.11.5"
  }
 },
 "nbformat": 4,
 "nbformat_minor": 5
}
