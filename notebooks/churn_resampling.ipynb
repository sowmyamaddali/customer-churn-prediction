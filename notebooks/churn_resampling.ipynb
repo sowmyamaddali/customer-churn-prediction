{
 "cells": [
  {
   "cell_type": "code",
   "execution_count": 1,
   "id": "e4775b4b-8fe0-4195-80cf-2a3f43298268",
   "metadata": {},
   "outputs": [],
   "source": [
    "import pandas as pd\n",
    "import numpy as np"
   ]
  },
  {
   "cell_type": "code",
   "execution_count": 2,
   "id": "f0e70fab-75de-42cc-a89b-d3234c14e9e4",
   "metadata": {},
   "outputs": [
    {
     "data": {
      "text/html": [
       "<div>\n",
       "<style scoped>\n",
       "    .dataframe tbody tr th:only-of-type {\n",
       "        vertical-align: middle;\n",
       "    }\n",
       "\n",
       "    .dataframe tbody tr th {\n",
       "        vertical-align: top;\n",
       "    }\n",
       "\n",
       "    .dataframe thead th {\n",
       "        text-align: right;\n",
       "    }\n",
       "</style>\n",
       "<table border=\"1\" class=\"dataframe\">\n",
       "  <thead>\n",
       "    <tr style=\"text-align: right;\">\n",
       "      <th></th>\n",
       "      <th>gender</th>\n",
       "      <th>age</th>\n",
       "      <th>married</th>\n",
       "      <th>number_of_dependents</th>\n",
       "      <th>zip_code</th>\n",
       "      <th>population</th>\n",
       "      <th>tenure_in_months</th>\n",
       "      <th>phone_service</th>\n",
       "      <th>avg_monthly_long_distance_charges</th>\n",
       "      <th>multiple_lines</th>\n",
       "      <th>...</th>\n",
       "      <th>satisfaction_score</th>\n",
       "      <th>churn_label</th>\n",
       "      <th>cltv</th>\n",
       "      <th>internet_type_DSL</th>\n",
       "      <th>internet_type_Fiber Optic</th>\n",
       "      <th>internet_type_No Internet</th>\n",
       "      <th>contract_One Year</th>\n",
       "      <th>contract_Two Year</th>\n",
       "      <th>payment_method_Credit Card</th>\n",
       "      <th>payment_method_Mailed Check</th>\n",
       "    </tr>\n",
       "  </thead>\n",
       "  <tbody>\n",
       "    <tr>\n",
       "      <th>0</th>\n",
       "      <td>1</td>\n",
       "      <td>78</td>\n",
       "      <td>0</td>\n",
       "      <td>0</td>\n",
       "      <td>90022</td>\n",
       "      <td>68701</td>\n",
       "      <td>1</td>\n",
       "      <td>0</td>\n",
       "      <td>0.00</td>\n",
       "      <td>0</td>\n",
       "      <td>...</td>\n",
       "      <td>3</td>\n",
       "      <td>1</td>\n",
       "      <td>5433</td>\n",
       "      <td>True</td>\n",
       "      <td>False</td>\n",
       "      <td>False</td>\n",
       "      <td>False</td>\n",
       "      <td>False</td>\n",
       "      <td>False</td>\n",
       "      <td>False</td>\n",
       "    </tr>\n",
       "    <tr>\n",
       "      <th>1</th>\n",
       "      <td>0</td>\n",
       "      <td>74</td>\n",
       "      <td>1</td>\n",
       "      <td>1</td>\n",
       "      <td>90063</td>\n",
       "      <td>55668</td>\n",
       "      <td>8</td>\n",
       "      <td>1</td>\n",
       "      <td>48.85</td>\n",
       "      <td>1</td>\n",
       "      <td>...</td>\n",
       "      <td>3</td>\n",
       "      <td>1</td>\n",
       "      <td>5302</td>\n",
       "      <td>False</td>\n",
       "      <td>True</td>\n",
       "      <td>False</td>\n",
       "      <td>False</td>\n",
       "      <td>False</td>\n",
       "      <td>True</td>\n",
       "      <td>False</td>\n",
       "    </tr>\n",
       "    <tr>\n",
       "      <th>2</th>\n",
       "      <td>1</td>\n",
       "      <td>71</td>\n",
       "      <td>0</td>\n",
       "      <td>3</td>\n",
       "      <td>90065</td>\n",
       "      <td>47534</td>\n",
       "      <td>18</td>\n",
       "      <td>1</td>\n",
       "      <td>11.33</td>\n",
       "      <td>1</td>\n",
       "      <td>...</td>\n",
       "      <td>2</td>\n",
       "      <td>1</td>\n",
       "      <td>3179</td>\n",
       "      <td>False</td>\n",
       "      <td>True</td>\n",
       "      <td>False</td>\n",
       "      <td>False</td>\n",
       "      <td>False</td>\n",
       "      <td>False</td>\n",
       "      <td>False</td>\n",
       "    </tr>\n",
       "    <tr>\n",
       "      <th>3</th>\n",
       "      <td>0</td>\n",
       "      <td>78</td>\n",
       "      <td>1</td>\n",
       "      <td>1</td>\n",
       "      <td>90303</td>\n",
       "      <td>27778</td>\n",
       "      <td>25</td>\n",
       "      <td>1</td>\n",
       "      <td>19.76</td>\n",
       "      <td>0</td>\n",
       "      <td>...</td>\n",
       "      <td>2</td>\n",
       "      <td>1</td>\n",
       "      <td>5337</td>\n",
       "      <td>False</td>\n",
       "      <td>True</td>\n",
       "      <td>False</td>\n",
       "      <td>False</td>\n",
       "      <td>False</td>\n",
       "      <td>False</td>\n",
       "      <td>False</td>\n",
       "    </tr>\n",
       "    <tr>\n",
       "      <th>4</th>\n",
       "      <td>0</td>\n",
       "      <td>80</td>\n",
       "      <td>1</td>\n",
       "      <td>1</td>\n",
       "      <td>90602</td>\n",
       "      <td>26265</td>\n",
       "      <td>37</td>\n",
       "      <td>1</td>\n",
       "      <td>6.33</td>\n",
       "      <td>1</td>\n",
       "      <td>...</td>\n",
       "      <td>2</td>\n",
       "      <td>1</td>\n",
       "      <td>2793</td>\n",
       "      <td>False</td>\n",
       "      <td>True</td>\n",
       "      <td>False</td>\n",
       "      <td>False</td>\n",
       "      <td>False</td>\n",
       "      <td>False</td>\n",
       "      <td>False</td>\n",
       "    </tr>\n",
       "  </tbody>\n",
       "</table>\n",
       "<p>5 rows × 37 columns</p>\n",
       "</div>"
      ],
      "text/plain": [
       "   gender  age  married  number_of_dependents  zip_code  population  \\\n",
       "0       1   78        0                     0     90022       68701   \n",
       "1       0   74        1                     1     90063       55668   \n",
       "2       1   71        0                     3     90065       47534   \n",
       "3       0   78        1                     1     90303       27778   \n",
       "4       0   80        1                     1     90602       26265   \n",
       "\n",
       "   tenure_in_months  phone_service  avg_monthly_long_distance_charges  \\\n",
       "0                 1              0                               0.00   \n",
       "1                 8              1                              48.85   \n",
       "2                18              1                              11.33   \n",
       "3                25              1                              19.76   \n",
       "4                37              1                               6.33   \n",
       "\n",
       "   multiple_lines  ...  satisfaction_score  churn_label  cltv  \\\n",
       "0               0  ...                   3            1  5433   \n",
       "1               1  ...                   3            1  5302   \n",
       "2               1  ...                   2            1  3179   \n",
       "3               0  ...                   2            1  5337   \n",
       "4               1  ...                   2            1  2793   \n",
       "\n",
       "   internet_type_DSL  internet_type_Fiber Optic  internet_type_No Internet  \\\n",
       "0               True                      False                      False   \n",
       "1              False                       True                      False   \n",
       "2              False                       True                      False   \n",
       "3              False                       True                      False   \n",
       "4              False                       True                      False   \n",
       "\n",
       "   contract_One Year  contract_Two Year  payment_method_Credit Card  \\\n",
       "0              False              False                       False   \n",
       "1              False              False                        True   \n",
       "2              False              False                       False   \n",
       "3              False              False                       False   \n",
       "4              False              False                       False   \n",
       "\n",
       "   payment_method_Mailed Check  \n",
       "0                        False  \n",
       "1                        False  \n",
       "2                        False  \n",
       "3                        False  \n",
       "4                        False  \n",
       "\n",
       "[5 rows x 37 columns]"
      ]
     },
     "execution_count": 2,
     "metadata": {},
     "output_type": "execute_result"
    }
   ],
   "source": [
    "linear_df = pd.read_csv(\"../data/linear_data.csv\")\n",
    "linear_df.head()"
   ]
  },
  {
   "cell_type": "code",
   "execution_count": 3,
   "id": "4ced58e6-eab8-4cc6-afb3-45169d6dd77a",
   "metadata": {},
   "outputs": [
    {
     "name": "stdout",
     "output_type": "stream",
     "text": [
      "<class 'pandas.core.frame.DataFrame'>\n",
      "RangeIndex: 7043 entries, 0 to 7042\n",
      "Data columns (total 37 columns):\n",
      " #   Column                             Non-Null Count  Dtype  \n",
      "---  ------                             --------------  -----  \n",
      " 0   gender                             7043 non-null   int64  \n",
      " 1   age                                7043 non-null   int64  \n",
      " 2   married                            7043 non-null   int64  \n",
      " 3   number_of_dependents               7043 non-null   int64  \n",
      " 4   zip_code                           7043 non-null   int64  \n",
      " 5   population                         7043 non-null   int64  \n",
      " 6   tenure_in_months                   7043 non-null   int64  \n",
      " 7   phone_service                      7043 non-null   int64  \n",
      " 8   avg_monthly_long_distance_charges  7043 non-null   float64\n",
      " 9   multiple_lines                     7043 non-null   int64  \n",
      " 10  internet_service                   7043 non-null   int64  \n",
      " 11  avg_monthly_gb_download            7043 non-null   int64  \n",
      " 12  online_security                    7043 non-null   int64  \n",
      " 13  online_backup                      7043 non-null   int64  \n",
      " 14  device_protection_plan             7043 non-null   int64  \n",
      " 15  premium_tech_support               7043 non-null   int64  \n",
      " 16  streaming_tv                       7043 non-null   int64  \n",
      " 17  streaming_movies                   7043 non-null   int64  \n",
      " 18  streaming_music                    7043 non-null   int64  \n",
      " 19  unlimited_data                     7043 non-null   int64  \n",
      " 20  paperless_billing                  7043 non-null   int64  \n",
      " 21  monthly_charge                     7043 non-null   float64\n",
      " 22  total_charges                      7043 non-null   float64\n",
      " 23  total_refunds                      7043 non-null   float64\n",
      " 24  total_extra_data_charges           7043 non-null   int64  \n",
      " 25  total_long_distance_charges        7043 non-null   float64\n",
      " 26  total_revenue                      7043 non-null   float64\n",
      " 27  satisfaction_score                 7043 non-null   int64  \n",
      " 28  churn_label                        7043 non-null   int64  \n",
      " 29  cltv                               7043 non-null   int64  \n",
      " 30  internet_type_DSL                  7043 non-null   bool   \n",
      " 31  internet_type_Fiber Optic          7043 non-null   bool   \n",
      " 32  internet_type_No Internet          7043 non-null   bool   \n",
      " 33  contract_One Year                  7043 non-null   bool   \n",
      " 34  contract_Two Year                  7043 non-null   bool   \n",
      " 35  payment_method_Credit Card         7043 non-null   bool   \n",
      " 36  payment_method_Mailed Check        7043 non-null   bool   \n",
      "dtypes: bool(7), float64(6), int64(24)\n",
      "memory usage: 1.7 MB\n"
     ]
    }
   ],
   "source": [
    "linear_df.info()"
   ]
  },
  {
   "cell_type": "markdown",
   "id": "d96637f5-ccdf-4d1d-9a5d-baaccbd61bc8",
   "metadata": {},
   "source": [
    "## Train-Test Split"
   ]
  },
  {
   "cell_type": "code",
   "execution_count": 5,
   "id": "d0f62950-9609-43cf-a343-d8b791cf40d3",
   "metadata": {},
   "outputs": [
    {
     "name": "stdout",
     "output_type": "stream",
     "text": [
      "Training set class distribution:\n",
      " churn_label\n",
      "0    0.734647\n",
      "1    0.265353\n",
      "Name: proportion, dtype: float64\n",
      "\n",
      "Testing set class distribution:\n",
      " churn_label\n",
      "0    0.734564\n",
      "1    0.265436\n",
      "Name: proportion, dtype: float64\n"
     ]
    }
   ],
   "source": [
    "from sklearn.model_selection import train_test_split\n",
    "\n",
    "# separate the features and target\n",
    "X = linear_df.drop(\"churn_label\", axis=1)\n",
    "y = linear_df[\"churn_label\"]\n",
    "\n",
    "# stratify ensures same class distribution in train and test\n",
    "X_train, X_test, y_train, y_test = train_test_split(X, y, test_size=0.2, \n",
    "                                                    random_state=42, stratify=y)\n",
    "\n",
    "# check class balance in the training set\n",
    "print(\"Training set class distribution:\\n\", y_train.value_counts(normalize=True))\n",
    "print(\"\\nTesting set class distribution:\\n\", y_test.value_counts(normalize=True))"
   ]
  },
  {
   "cell_type": "markdown",
   "id": "31ecb77c-01eb-4556-afec-b8af430f6e66",
   "metadata": {},
   "source": [
    "**Insights:**\n",
    "- The original class imbalance has been preserved accurately across the split."
   ]
  },
  {
   "cell_type": "code",
   "execution_count": 6,
   "id": "e549eb46-1168-4f8c-8dee-21414561d907",
   "metadata": {},
   "outputs": [
    {
     "name": "stdout",
     "output_type": "stream",
     "text": [
      "Original class distribution: Counter({0: 4139, 1: 1495})\n"
     ]
    }
   ],
   "source": [
    "from imblearn.over_sampling import RandomOverSampler\n",
    "from imblearn.under_sampling import RandomUnderSampler\n",
    "from collections import Counter\n",
    "\n",
    "# Showing the original class counts\n",
    "print(\"Original class distribution:\", Counter(y_train))"
   ]
  },
  {
   "cell_type": "markdown",
   "id": "f1461c34-7c2a-47f1-877e-13f520a28abf",
   "metadata": {},
   "source": [
    "## Random Undersampling"
   ]
  },
  {
   "cell_type": "code",
   "execution_count": 8,
   "id": "bb51f417-2817-45fa-a250-e4e2336a5179",
   "metadata": {},
   "outputs": [
    {
     "name": "stdout",
     "output_type": "stream",
     "text": [
      "Undersampled class distribution: Counter({0: 1495, 1: 1495})\n"
     ]
    }
   ],
   "source": [
    "under_sample = RandomUnderSampler(random_state=42)\n",
    "X_train_under_sample, y_train_under_sample = under_sample.fit_resample(X_train, y_train)\n",
    "\n",
    "print(\"Undersampled class distribution:\", Counter(y_train_under_sample))"
   ]
  },
  {
   "cell_type": "markdown",
   "id": "b8c8d8c8-050d-435d-83b1-761a08089626",
   "metadata": {},
   "source": [
    "**Insight:** Lost 2644 data points under label 0"
   ]
  },
  {
   "cell_type": "markdown",
   "id": "8813e64f-17c4-4119-972c-f0c88f691c9b",
   "metadata": {},
   "source": [
    "## Random Oversampling"
   ]
  },
  {
   "cell_type": "code",
   "execution_count": 12,
   "id": "cb0a9e9b-c42d-4b9f-9f47-aa6b118c269d",
   "metadata": {},
   "outputs": [
    {
     "name": "stdout",
     "output_type": "stream",
     "text": [
      "Oversampled class distribution: Counter({0: 4139, 1: 4139})\n"
     ]
    }
   ],
   "source": [
    "over_sample = RandomOverSampler(random_state=42)\n",
    "X_train_over_sample, y_train_over_sample = over_sample.fit_resample(X_train, y_train)\n",
    "\n",
    "print(\"Oversampled class distribution:\", Counter(y_train_over_sample))"
   ]
  },
  {
   "cell_type": "markdown",
   "id": "120e00a8-dcca-4fba-ac90-d4fd8200dabc",
   "metadata": {},
   "source": [
    "**Insight:** Added 2644 new data points for label 1"
   ]
  },
  {
   "cell_type": "markdown",
   "id": "51ada945-9ce0-4dde-a262-9ebabae33fac",
   "metadata": {},
   "source": [
    "### Visual representation of Undersample and Oversample"
   ]
  },
  {
   "cell_type": "code",
   "execution_count": 13,
   "id": "a0f50784-515f-49ae-8172-8e21367742e9",
   "metadata": {},
   "outputs": [
    {
     "data": {
      "image/png": "[encoded data removed]",
      "text/plain": [
       "<Figure size 640x480 with 1 Axes>"
      ]
     },
     "metadata": {},
     "output_type": "display_data"
    }
   ],
   "source": [
    "import matplotlib.pyplot as plt\n",
    "\n",
    "# plot for comparison\n",
    "labels = [\"Original\", \"Under\", \"Over\"]\n",
    "counts = [\n",
    "    Counter(y_train)[1],\n",
    "    Counter(y_train_under_sample)[1],\n",
    "    Counter(y_train_over_sample)[1]\n",
    "]\n",
    "\n",
    "plt.bar(labels, counts, color=[\"gray\", \"salmon\", \"skyblue\"])\n",
    "plt.title(\"Number of Positive Samples (Churn = 1) Across Resampling Methods\")\n",
    "plt.ylabel(\"Count of Churn = 1\")\n",
    "plt.show()"
   ]
  },
  {
   "cell_type": "markdown",
   "id": "3b83403d-fabf-4cea-8845-dc656022551b",
   "metadata": {},
   "source": [
    "## Synthetic Minority Over-Sampling Technique (SMOTE)"
   ]
  },
  {
   "cell_type": "code",
   "execution_count": 14,
   "id": "e6bf1051-c857-41ef-b024-b6346250d912",
   "metadata": {},
   "outputs": [
    {
     "name": "stdout",
     "output_type": "stream",
     "text": [
      "After Smote: Counter({0: 4139, 1: 4139})\n"
     ]
    }
   ],
   "source": [
    "from imblearn.over_sampling import SMOTE\n",
    "from collections import Counter\n",
    "\n",
    "# create a SMOTE object\n",
    "smote = SMOTE(random_state=42)\n",
    "\n",
    "# apply only to the training data\n",
    "X_train_smote, y_train_smote = smote.fit_resample(X_train, y_train)\n",
    "\n",
    "# check the new class balance\n",
    "print(\"After Smote:\", Counter(y_train_smote))"
   ]
  },
  {
   "cell_type": "markdown",
   "id": "767fd04a-1d2d-4b40-8dc0-d250237dbc55",
   "metadata": {},
   "source": [
    "## Saving the balanced dataset"
   ]
  },
  {
   "cell_type": "code",
   "execution_count": 15,
   "id": "a9573395-0dc6-419a-ab2b-a0ae1aa372e5",
   "metadata": {},
   "outputs": [],
   "source": [
    "# merging the features + target to save\n",
    "X_train_smote['churn_label'] = y_train_smote\n",
    "\n",
    "output_path = \"../data/train_smote_balanced.csv\"\n",
    "X_train_smote.to_csv(output_path, index=False)"
   ]
  },
  {
   "cell_type": "markdown",
   "id": "c17dddee-6c04-46c0-8845-4b2894b3ca8f",
   "metadata": {},
   "source": [
    "## Saving the untouched test dataset"
   ]
  },
  {
   "cell_type": "code",
   "execution_count": 16,
   "id": "11b97d1f-8b4c-46ba-a832-7f1948670859",
   "metadata": {},
   "outputs": [],
   "source": [
    "X_test['churn_label'] = y_test\n",
    "\n",
    "output_path_test = \"../data/test_unbalanced.csv\"\n",
    "X_test.to_csv(output_path_test, index=False)"
   ]
  },
  {
   "cell_type": "code",
   "execution_count": null,
   "id": "d2d1e651-1b5b-4b89-810c-6ec67004041a",
   "metadata": {},
   "outputs": [],
   "source": []
  }
 ],
 "metadata": {
  "kernelspec": {
   "display_name": "Python (Customer Churn)",
   "language": "python",
   "name": "churn-env"
  },
  "language_info": {
   "codemirror_mode": {
    "name": "ipython",
    "version": 3
   },
   "file_extension": ".py",
   "mimetype": "text/x-python",
   "name": "python",
   "nbconvert_exporter": "python",
   "pygments_lexer": "ipython3",
   "version": "3.11.5"
  }
 },
 "nbformat": 4,
 "nbformat_minor": 5
}
